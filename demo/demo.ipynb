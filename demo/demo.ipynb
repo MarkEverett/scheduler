{
 "cells": [
  {
   "cell_type": "code",
   "execution_count": 31,
   "metadata": {
    "ExecuteTime": {
     "end_time": "2023-08-08T20:35:26.219262Z",
     "start_time": "2023-08-08T20:35:26.166950Z"
    }
   },
   "outputs": [],
   "source": [
    "import sys\n",
    "import os\n",
    "cwd = os.getcwd().replace('/demo', '')\n",
    "sys.path.insert(0, cwd)"
   ]
  },
  {
   "cell_type": "code",
   "execution_count": 32,
   "metadata": {
    "ExecuteTime": {
     "end_time": "2023-08-08T20:35:26.221307Z",
     "start_time": "2023-08-08T20:35:26.176449Z"
    }
   },
   "outputs": [],
   "source": [
    "%%capture\n",
    "import mercury as mr\n",
    "import numpy as np\n",
    "import pandas as pd\n",
    "from IPython.display import display\n",
    "import pickle\n",
    "\n",
    "from lucupy.minimodel.constraints import CloudCover, ImageQuality\n",
    "from lucupy.minimodel.site import ALL_SITES, Site\n",
    "from lucupy.minimodel.semester import SemesterHalf\n",
    "from lucupy.observatory.abstract import ObservatoryProperties\n",
    "from lucupy.observatory.gemini import GeminiProperties\n",
    "\n",
    "from definitions import ROOT_DIR\n",
    "from scheduler.core.builder.blueprint import CollectorBlueprint, OptimizerBlueprint\n",
    "from scheduler.core.builder.builder import SchedulerBuilder\n",
    "from scheduler.core.components.collector import *\n",
    "from scheduler.core.output import print_collector_info, plans_table, pickle_plans, pickle_selection\n",
    "from scheduler.core.programprovider.ocs import read_ocs_zipfile, OcsProgramProvider\n",
    "from scheduler.core.statscalculator import StatCalculator\n",
    "from scheduler.services import logger_factory\n"
   ]
  },
  {
   "cell_type": "code",
   "execution_count": 33,
   "metadata": {
    "ExecuteTime": {
     "end_time": "2023-08-08T20:35:26.286117Z",
     "start_time": "2023-08-08T20:35:26.186039Z"
    }
   },
   "outputs": [
    {
     "data": {
      "text/plain": "mercury.App",
      "text/html": "<h3>Mercury Application</h3><small>This output won't appear in the web app.</small>",
      "application/mercury+json": "{\n    \"widget\": \"App\",\n    \"title\": \"Scheduler Validate Test\",\n    \"description\": \"Try the Validation mode for the Scheduler\",\n    \"show_code\": false,\n    \"show_prompt\": true,\n    \"output\": \"app\",\n    \"schedule\": \"\",\n    \"notify\": \"{}\",\n    \"continuous_update\": false,\n    \"static_notebook\": false,\n    \"show_sidebar\": true,\n    \"full_screen\": true,\n    \"allow_download\": true,\n    \"model_id\": \"mercury-app\",\n    \"code_uid\": \"App.0.40.24.2-rand65e3b47a\"\n}"
     },
     "metadata": {},
     "output_type": "display_data"
    }
   ],
   "source": [
    "# set Application parameters\n",
    "app = mr.App(title=\"Scheduler Validate Test\",\n",
    "        description=\"Try the Validation mode for the Scheduler\",\n",
    "        show_code=False,\n",
    "        show_prompt=True,\n",
    "        continuous_update=False,\n",
    "        static_notebook=False,\n",
    "        show_sidebar=True,\n",
    "        full_screen=True,\n",
    "        allow_download=True)"
   ]
  },
  {
   "cell_type": "code",
   "execution_count": 34,
   "metadata": {
    "ExecuteTime": {
     "end_time": "2023-08-08T20:35:26.287294Z",
     "start_time": "2023-08-08T20:35:26.217093Z"
    }
   },
   "outputs": [
    {
     "data": {
      "application/mercury+json": "{\n    \"widget\": \"OutputDir\",\n    \"model_id\": \"output-dir\",\n    \"code_uid\": \"OutputDir.0.40.18.1-rand6a70d9db\"\n}",
      "text/html": "<h3>Output Directory</h3><small>This output won't appear in the web app.</small>",
      "text/plain": "mercury.OutputDir"
     },
     "metadata": {},
     "output_type": "display_data"
    },
    {
     "name": "stdout",
     "output_type": "stream",
     "text": [
      "Output directory path: .\n"
     ]
    }
   ],
   "source": [
    "out_dir = mr.OutputDir()\n",
    "print(f\"Output directory path: {out_dir.path}\")"
   ]
  },
  {
   "cell_type": "code",
   "execution_count": 35,
   "metadata": {
    "ExecuteTime": {
     "end_time": "2023-08-08T20:35:26.287799Z",
     "start_time": "2023-08-08T20:35:26.258840Z"
    }
   },
   "outputs": [],
   "source": [
    "def set_dates():\n",
    "\n",
    "  start_date = mr.Text(value=\"2018-10-01\", label=\"Start Date\", rows=1)\n",
    "  start_time = mr.Text(value=\"08:00:00\", label=\"Start Time\", rows=1)\n",
    "  end_date = mr.Text(value=\"2018-10-03\", label=\"End Date\", rows=1)\n",
    "  end_time = mr.Text(value=\"08:00:00\", label=\"End Time\", rows=1)\n",
    "  return f'{start_date.value} {start_time.value}', f'{end_date.value} {end_time.value}'\n",
    "\n",
    "def set_sites():\n",
    "    selected = mr.MultiSelect(label=\"Sites\", \n",
    "                              value=[\"GS\", \"GN\"], \n",
    "                              choices=[\"GS\", \"GN\"])\n",
    "    if selected.value:\n",
    "      if 'GS' in selected.value and 'GN' in selected.value:\n",
    "         return ALL_SITES\n",
    "      else:\n",
    "         return Site(selected.value[0])\n",
    "    return ALL_SITES # HOW TO HANDLE ERRORS? \n",
    "\n",
<<<<<<< HEAD
    "def set_cc():\n",
    "    selected = mr.Select(label='Cloud Cover',\n",
    "                         value='CC50',\n",
    "                         choices=['CC50', 'CC70', 'CC80', 'CCANY'])\n",
    "    if selected.value:\n",
    "        return CloudCover[selected]\n",
    "    else:\n",
    "        return CloudCover.CC50\n",
    "    \n",
    "def set_iq():\n",
    "    selected = mr.Select(label='Image Quality',\n",
    "                         value='IQ70',\n",
    "                         choices=['IQ20', 'IQ70', 'IQ85', 'IQANY'])\n",
    "    if selected.value:\n",
    "        return ImageQuality[selected]\n",
    "    else:\n",
    "        return ImageQuality.IQ70\n"
=======
    "def set_weather():\n",
    "    iq = mr.Select(value=\"IQ70\", choices=['IQ20','IQ70','IQ85','IQANY'], label=\"IQ\")\n",
    "    cc = mr.Select(value=\"CC50\", choices=['CC50','CC70','CC80','CCANY'], label=\"CC\")\n",
    "    return cc,iq"
>>>>>>> SCHED-425: Add weather interface and night stats
   ]
  },
  {
   "cell_type": "markdown",
   "metadata": {},
   "source": [
    "## SCHEDULER \n",
    "\n",
    "It does take a while to load everything. When the run button is enable the Scheduler is ready to work. The initial values shown are the default parameters displayed in the sidebar."
   ]
  },
  {
   "cell_type": "code",
   "execution_count": 36,
   "metadata": {
    "ExecuteTime": {
     "end_time": "2023-08-08T20:35:47.568229Z",
     "start_time": "2023-08-08T20:35:26.262966Z"
    }
   },
   "outputs": [
    {
     "data": {
      "application/vnd.jupyter.widget-view+json": {
       "version_major": 2,
       "version_minor": 0,
       "model_id": "e058141855e347da9e052ea4cb16b1ed"
      },
      "application/mercury+json": "{\n    \"widget\": \"Text\",\n    \"value\": \"2018-10-01\",\n    \"rows\": 1,\n    \"label\": \"Start Date\",\n    \"model_id\": \"e058141855e347da9e052ea4cb16b1ed\",\n    \"code_uid\": \"Text.0.40.15.3.14-randfbfed3ca\",\n    \"url_key\": \"\",\n    \"disabled\": false,\n    \"hidden\": false\n}",
      "text/plain": "mercury.Text"
     },
     "metadata": {},
     "output_type": "display_data"
    },
    {
     "data": {
      "application/vnd.jupyter.widget-view+json": {
       "version_major": 2,
       "version_minor": 0,
       "model_id": "d3a1a88ab35146f38a0bb488a3340914"
      },
      "application/mercury+json": "{\n    \"widget\": \"Text\",\n    \"value\": \"08:00:00\",\n    \"rows\": 1,\n    \"label\": \"Start Time\",\n    \"model_id\": \"d3a1a88ab35146f38a0bb488a3340914\",\n    \"code_uid\": \"Text.0.40.15.4.14-rand777d9704\",\n    \"url_key\": \"\",\n    \"disabled\": false,\n    \"hidden\": false\n}",
      "text/plain": "mercury.Text"
     },
     "metadata": {},
     "output_type": "display_data"
    },
    {
     "data": {
      "application/vnd.jupyter.widget-view+json": {
       "version_major": 2,
       "version_minor": 0,
       "model_id": "12b39fb927ae4e818c335d981d3cd2f3"
      },
      "application/mercury+json": "{\n    \"widget\": \"Text\",\n    \"value\": \"2018-10-03\",\n    \"rows\": 1,\n    \"label\": \"End Date\",\n    \"model_id\": \"12b39fb927ae4e818c335d981d3cd2f3\",\n    \"code_uid\": \"Text.0.40.15.5.14-rand984e20bb\",\n    \"url_key\": \"\",\n    \"disabled\": false,\n    \"hidden\": false\n}",
      "text/plain": "mercury.Text"
     },
     "metadata": {},
     "output_type": "display_data"
    },
    {
     "data": {
      "application/vnd.jupyter.widget-view+json": {
       "version_major": 2,
       "version_minor": 0,
       "model_id": "c2bd51a9643642728f8393c0d34ce73d"
      },
      "application/mercury+json": "{\n    \"widget\": \"Text\",\n    \"value\": \"08:00:00\",\n    \"rows\": 1,\n    \"label\": \"End Time\",\n    \"model_id\": \"c2bd51a9643642728f8393c0d34ce73d\",\n    \"code_uid\": \"Text.0.40.15.6.14-rand3b443bd8\",\n    \"url_key\": \"\",\n    \"disabled\": false,\n    \"hidden\": false\n}",
      "text/plain": "mercury.Text"
     },
     "metadata": {},
     "output_type": "display_data"
    },
    {
     "data": {
      "application/vnd.jupyter.widget-view+json": {
       "version_major": 2,
       "version_minor": 0,
       "model_id": "58be9ae1fd76413b87f9c41d3f288b42"
      },
      "application/mercury+json": "{\n    \"widget\": \"MultiSelect\",\n    \"value\": [\n        \"GS\",\n        \"GN\"\n    ],\n    \"choices\": [\n        \"GS\",\n        \"GN\"\n    ],\n    \"label\": \"Sites\",\n    \"model_id\": \"58be9ae1fd76413b87f9c41d3f288b42\",\n    \"code_uid\": \"MultiSelect.0.40.16.10.15-rand044d80fa\",\n    \"url_key\": \"\",\n    \"disabled\": false,\n    \"hidden\": false\n}",
      "text/plain": "mercury.MultiSelect"
     },
     "metadata": {},
     "output_type": "display_data"
    },
    {
     "data": {
      "application/vnd.jupyter.widget-view+json": {
       "version_major": 2,
       "version_minor": 0,
       "model_id": "15cb8b4c4cc34570aee234ed2ac8765e"
      },
      "application/mercury+json": "{\n    \"widget\": \"Select\",\n    \"value\": \"IQ70\",\n    \"choices\": [\n        \"IQ20\",\n        \"IQ70\",\n        \"IQ85\",\n        \"IQANY\"\n    ],\n    \"label\": \"IQ\",\n    \"model_id\": \"15cb8b4c4cc34570aee234ed2ac8765e\",\n    \"code_uid\": \"Select.0.40.16.21.16-rand6670085a\",\n    \"url_key\": \"\",\n    \"disabled\": false,\n    \"hidden\": false\n}",
      "text/plain": "mercury.Select"
     },
     "metadata": {},
     "output_type": "display_data"
    },
    {
     "data": {
      "application/vnd.jupyter.widget-view+json": {
       "version_major": 2,
       "version_minor": 0,
       "model_id": "b25711bc48634609a35468087d6d1193"
      },
      "application/mercury+json": "{\n    \"widget\": \"Select\",\n    \"value\": \"CC50\",\n    \"choices\": [\n        \"CC50\",\n        \"CC70\",\n        \"CC80\",\n        \"CCANY\"\n    ],\n    \"label\": \"CC\",\n    \"model_id\": \"b25711bc48634609a35468087d6d1193\",\n    \"code_uid\": \"Select.0.40.16.22.16-rand54e25167\",\n    \"url_key\": \"\",\n    \"disabled\": false,\n    \"hidden\": false\n}",
      "text/plain": "mercury.Select"
     },
     "metadata": {},
     "output_type": "display_data"
    },
    {
     "name": "stdout",
     "output_type": "stream",
     "text": [
      "Pre-Collector / Collector running from:\n",
      "   start time:       2018-10-01 08:00:00.000\n",
      "   end time:         2018-10-03 08:00:00.000\n",
      "   time slot length: 1.0 min\n",
      "\n",
      "\n",
      "+++++ NIGHT EVENTS FOR GS +++++\n",
      "* DAY 0: 2018-09-30 20:36:00.000005-03:00 to 2018-10-01 06:29:00.000017-03:00, 594 time slots.\n",
      "\tmidnight:         2018-10-01 03:00:00\n",
      "\tsunset:           2018-09-30 22:51:51.313\n",
      "\tsunrise:          2018-10-01 10:13:08.138\n",
      "\t12° eve twilight: 2018-09-30 23:35:59.594\n",
      "\t12° mor twilight: 2018-10-01 09:29:01.995\n",
      "\tmoonrise:         2018-10-01 04:10:15.720\n",
      "\tmoonset:          2018-10-01 15:12:31.872\n",
      "* DAY 1: 2018-10-01 20:37:00.000002-03:00 to 2018-10-02 06:26:59.999984-03:00, 591 time slots.\n",
      "\tmidnight:         2018-10-02 03:00:00\n",
      "\tsunset:           2018-10-01 22:52:26.854\n",
      "\tsunrise:          2018-10-02 10:11:54.093\n",
      "\t12° eve twilight: 2018-10-01 23:36:38.176\n",
      "\t12° mor twilight: 2018-10-02 09:27:44.847\n",
      "\tmoonrise:         2018-10-02 05:10:48.546\n",
      "\tmoonset:          2018-10-01 15:12:32.555\n",
      "* DAY 2: 2018-10-02 20:37:59.999998-03:00 to 2018-10-03 06:25:59.999987-03:00, 589 time slots.\n",
      "\tmidnight:         2018-10-03 03:00:00\n",
      "\tsunset:           2018-10-02 22:53:02.704\n",
      "\tsunrise:          2018-10-03 10:10:40.358\n",
      "\t12° eve twilight: 2018-10-02 23:37:17.240\n",
      "\t12° mor twilight: 2018-10-03 09:26:27.834\n",
      "\tmoonrise:         2018-10-03 06:08:46.669\n",
      "\tmoonset:          2018-10-02 16:09:09.475\n",
      "\n",
      "\n",
      "+++++ NIGHT EVENTS FOR GN +++++\n",
      "* DAY 0: 2018-09-30 19:59:00.000017-09:00 to 2018-10-01 06:24:59.999991-09:00, 627 time slots.\n",
      "\tmidnight:         2018-10-01 09:00:00\n",
      "\tsunset:           2018-10-01 04:19:43.031\n",
      "\tsunrise:          2018-10-01 16:03:41.092\n",
      "\t12° eve twilight: 2018-10-01 04:58:06.957\n",
      "\t12° mor twilight: 2018-10-01 15:25:15.286\n",
      "\tmoonrise:         2018-10-01 08:39:18.887\n",
      "\tmoonset:          2018-09-30 21:31:49.933\n",
      "* DAY 1: 2018-10-01 19:57:59.999980-09:00 to 2018-10-02 06:24:59.999991-09:00, 628 time slots.\n",
      "\tmidnight:         2018-10-02 09:00:00\n",
      "\tsunset:           2018-10-02 04:18:50.410\n",
      "\tsunrise:          2018-10-02 16:03:55.278\n",
      "\t12° eve twilight: 2018-10-02 04:57:14.601\n",
      "\t12° mor twilight: 2018-10-02 15:25:29.158\n",
      "\tmoonrise:         2018-10-02 09:35:27.368\n",
      "\tmoonset:          2018-10-01 22:31:17.931\n",
      "* DAY 2: 2018-10-02 19:56:59.999984-09:00 to 2018-10-03 06:24:59.999991-09:00, 629 time slots.\n",
      "\tmidnight:         2018-10-03 09:00:00\n",
      "\tsunset:           2018-10-03 04:17:58.161\n",
      "\tsunrise:          2018-10-03 16:04:09.713\n",
      "\t12° eve twilight: 2018-10-03 04:56:22.739\n",
      "\t12° mor twilight: 2018-10-03 15:25:43.156\n",
      "\tmoonrise:         2018-10-03 10:35:13.150\n",
      "\tmoonset:          2018-10-02 23:29:55.909\n"
     ]
    },
    {
     "data": {
      "text/plain": "<IPython.core.display.Markdown object>",
      "text/markdown": "## Night Idx: 1 "
     },
     "metadata": {},
     "output_type": "display_data"
    },
    {
     "data": {
      "text/plain": "<IPython.core.display.Markdown object>",
      "text/markdown": "### Site: Gemini South "
     },
     "metadata": {},
     "output_type": "display_data"
    },
    {
     "data": {
      "text/plain": "                             Start        Observation  Atom start  Atom end  \\\n0 2018-09-30 20:47:00.000005-03:00  GS-2018B-Q-115-11           0        11   \n1 2018-09-30 23:31:00.000005-03:00  GS-2018B-Q-206-10           0         7   \n2 2018-10-01 01:20:00.000005-03:00   GS-2018B-Q-115-7           0         5   \n3 2018-10-01 05:38:00.000005-03:00  GS-2018B-Q-115-10           0         1   \n4 2018-10-01 05:48:00.000005-03:00  GS-2018B-Q-223-31           0        55   \n\n   Length        Score  Instrument  \n0     169  2152.974606      GMOS-S  \n1     117  2297.100818      GMOS-S  \n2     258  3012.094366      GMOS-S  \n3       8    54.510731      GMOS-S  \n4      43   834.144459  Flamingos2  ",
      "text/html": "<div>\n<style scoped>\n    .dataframe tbody tr th:only-of-type {\n        vertical-align: middle;\n    }\n\n    .dataframe tbody tr th {\n        vertical-align: top;\n    }\n\n    .dataframe thead th {\n        text-align: right;\n    }\n</style>\n<table border=\"1\" class=\"dataframe\">\n  <thead>\n    <tr style=\"text-align: right;\">\n      <th></th>\n      <th>Start</th>\n      <th>Observation</th>\n      <th>Atom start</th>\n      <th>Atom end</th>\n      <th>Length</th>\n      <th>Score</th>\n      <th>Instrument</th>\n    </tr>\n  </thead>\n  <tbody>\n    <tr>\n      <th>0</th>\n      <td>2018-09-30 20:47:00.000005-03:00</td>\n      <td>GS-2018B-Q-115-11</td>\n      <td>0</td>\n      <td>11</td>\n      <td>169</td>\n      <td>2152.974606</td>\n      <td>GMOS-S</td>\n    </tr>\n    <tr>\n      <th>1</th>\n      <td>2018-09-30 23:31:00.000005-03:00</td>\n      <td>GS-2018B-Q-206-10</td>\n      <td>0</td>\n      <td>7</td>\n      <td>117</td>\n      <td>2297.100818</td>\n      <td>GMOS-S</td>\n    </tr>\n    <tr>\n      <th>2</th>\n      <td>2018-10-01 01:20:00.000005-03:00</td>\n      <td>GS-2018B-Q-115-7</td>\n      <td>0</td>\n      <td>5</td>\n      <td>258</td>\n      <td>3012.094366</td>\n      <td>GMOS-S</td>\n    </tr>\n    <tr>\n      <th>3</th>\n      <td>2018-10-01 05:38:00.000005-03:00</td>\n      <td>GS-2018B-Q-115-10</td>\n      <td>0</td>\n      <td>1</td>\n      <td>8</td>\n      <td>54.510731</td>\n      <td>GMOS-S</td>\n    </tr>\n    <tr>\n      <th>4</th>\n      <td>2018-10-01 05:48:00.000005-03:00</td>\n      <td>GS-2018B-Q-223-31</td>\n      <td>0</td>\n      <td>55</td>\n      <td>43</td>\n      <td>834.144459</td>\n      <td>Flamingos2</td>\n    </tr>\n  </tbody>\n</table>\n</div>"
     },
     "metadata": {},
     "output_type": "display_data"
    },
    {
     "ename": "AttributeError",
     "evalue": "'DataFrame' object has no attribute 'night_stats'",
     "output_type": "error",
     "traceback": [
      "\u001B[0;31m---------------------------------------------------------------------------\u001B[0m",
      "\u001B[0;31mAttributeError\u001B[0m                            Traceback (most recent call last)",
      "Cell \u001B[0;32mIn[36], line 80\u001B[0m\n\u001B[1;32m     78\u001B[0m         mr\u001B[38;5;241m.\u001B[39mMd(\u001B[38;5;124mf\u001B[39m\u001B[38;5;124m\"\u001B[39m\u001B[38;5;124m### Site: \u001B[39m\u001B[38;5;132;01m{\u001B[39;00msite\u001B[38;5;241m.\u001B[39mvalue[\u001B[38;5;241m0\u001B[39m]\u001B[38;5;132;01m}\u001B[39;00m\u001B[38;5;124m \u001B[39m\u001B[38;5;124m\"\u001B[39m)\n\u001B[1;32m     79\u001B[0m         display(table_per_site[site])\n\u001B[0;32m---> 80\u001B[0m         mr\u001B[38;5;241m.\u001B[39mMd(\u001B[38;5;124mf\u001B[39m\u001B[38;5;124m'\u001B[39m\u001B[38;5;124mTime loss: \u001B[39m\u001B[38;5;132;01m{\u001B[39;00mtable_per_site[site]\u001B[38;5;241m.\u001B[39mnight_stats\u001B[38;5;241m.\u001B[39mtimeloss\u001B[38;5;132;01m}\u001B[39;00m\u001B[38;5;124m'\u001B[39m)\n\u001B[1;32m     81\u001B[0m         mr\u001B[38;5;241m.\u001B[39mMd(\u001B[38;5;124mf\u001B[39m\u001B[38;5;124m'\u001B[39m\u001B[38;5;124mPlan score: \u001B[39m\u001B[38;5;132;01m{\u001B[39;00mtable_per_site[site]\u001B[38;5;241m.\u001B[39mnight_stats\u001B[38;5;241m.\u001B[39mplan_score\u001B[38;5;132;01m}\u001B[39;00m\u001B[38;5;124m'\u001B[39m)\n\u001B[1;32m     82\u001B[0m mr\u001B[38;5;241m.\u001B[39mMd(\u001B[38;5;124m'\u001B[39m\u001B[38;5;124m## Program Completion\u001B[39m\u001B[38;5;124m'\u001B[39m)\n",
      "File \u001B[0;32m~/opt/miniconda3/envs/scheduler-env/lib/python3.10/site-packages/pandas/core/generic.py:5902\u001B[0m, in \u001B[0;36mNDFrame.__getattr__\u001B[0;34m(self, name)\u001B[0m\n\u001B[1;32m   5895\u001B[0m \u001B[38;5;28;01mif\u001B[39;00m (\n\u001B[1;32m   5896\u001B[0m     name \u001B[38;5;129;01mnot\u001B[39;00m \u001B[38;5;129;01min\u001B[39;00m \u001B[38;5;28mself\u001B[39m\u001B[38;5;241m.\u001B[39m_internal_names_set\n\u001B[1;32m   5897\u001B[0m     \u001B[38;5;129;01mand\u001B[39;00m name \u001B[38;5;129;01mnot\u001B[39;00m \u001B[38;5;129;01min\u001B[39;00m \u001B[38;5;28mself\u001B[39m\u001B[38;5;241m.\u001B[39m_metadata\n\u001B[1;32m   5898\u001B[0m     \u001B[38;5;129;01mand\u001B[39;00m name \u001B[38;5;129;01mnot\u001B[39;00m \u001B[38;5;129;01min\u001B[39;00m \u001B[38;5;28mself\u001B[39m\u001B[38;5;241m.\u001B[39m_accessors\n\u001B[1;32m   5899\u001B[0m     \u001B[38;5;129;01mand\u001B[39;00m \u001B[38;5;28mself\u001B[39m\u001B[38;5;241m.\u001B[39m_info_axis\u001B[38;5;241m.\u001B[39m_can_hold_identifiers_and_holds_name(name)\n\u001B[1;32m   5900\u001B[0m ):\n\u001B[1;32m   5901\u001B[0m     \u001B[38;5;28;01mreturn\u001B[39;00m \u001B[38;5;28mself\u001B[39m[name]\n\u001B[0;32m-> 5902\u001B[0m \u001B[38;5;28;01mreturn\u001B[39;00m \u001B[38;5;28;43mobject\u001B[39;49m\u001B[38;5;241;43m.\u001B[39;49m\u001B[38;5;21;43m__getattribute__\u001B[39;49m\u001B[43m(\u001B[49m\u001B[38;5;28;43mself\u001B[39;49m\u001B[43m,\u001B[49m\u001B[43m \u001B[49m\u001B[43mname\u001B[49m\u001B[43m)\u001B[49m\n",
      "\u001B[0;31mAttributeError\u001B[0m: 'DataFrame' object has no attribute 'night_stats'"
     ]
    }
   ],
   "source": [
    "ObservatoryProperties.set_properties(GeminiProperties)\n",
    "\n",
    "# Read in a list of JSON data\n",
    "programs = read_ocs_zipfile(os.path.join(ROOT_DIR, 'scheduler', 'data', '2018B_program_samples.zip'));\n",
    "\n",
    "# Create the Collector and load the programs.\n",
    "collector_blueprint = CollectorBlueprint(\n",
    "    ['SCIENCE', 'PROGCAL', 'PARTNERCAL'],\n",
    "    ['Q', 'LP', 'FT', 'DD'],\n",
    "    1.0\n",
    ");\n",
    "\n",
    "\n",
    "start, end = set_dates()\n",
    "sites = set_sites()\n",
<<<<<<< HEAD
    "cc = set_cc()\n",
    "iq = set_iq()\n",
=======
    "cc, iq = set_weather()\n",
>>>>>>> SCHED-425: Add weather interface and night stats
    "\n",
    "\n",
    "collector = SchedulerBuilder.build_collector(\n",
    "    start=Time(start, format='iso', scale='utc'),\n",
    "    end=Time(end, format='iso', scale='utc'),\n",
    "    sites=sites,\n",
    "    semesters=frozenset([Semester(2018, SemesterHalf.B)]),\n",
    "    blueprint=collector_blueprint\n",
    ")\n",
    "\n",
    "# Create the Collector and load the programs.\n",
    "collector.load_programs(program_provider_class=OcsProgramProvider,\n",
    "                        data=programs)\n",
    "\n",
    "print_collector_info(collector, samples=10)\n",
    "\n",
    "selector = SchedulerBuilder.build_selector(collector,\n",
    "                                           num_nights_to_schedule=3,\n",
    "                                           default_cc=cc,\n",
    "                                           default_iq=iq)\n",
    "\n",
    "# Prepare the optimizer.\n",
    "optimizer_blueprint = OptimizerBlueprint(\n",
    "    \"GreedyMax\"\n",
    ")\n",
    "optimizer = SchedulerBuilder.build_optimizer(\n",
    "    blueprint=optimizer_blueprint\n",
    ")\n",
    "\n",
    "# The total nights for which visibility calculations have been done.\n",
    "total_nights = len(collector.time_grid)\n",
    "\n",
    "# Create the overall plans by night.\n",
    "overall_plans = {}\n",
    "\n",
    "for night_idx in range(selector.num_nights_to_schedule):\n",
    "    # Get the night indices for which we are selecting.\n",
    "    # TODO: We will want scores for nights to look ahead for greedy optimization.\n",
    "    # TODO: For now, we use the entire period for which visibility calculations have been done.\n",
    "    # night_indices = range(night_idx, total_nights)\n",
    "    night_indices = np.array([night_idx])\n",
    "    # selection = selector.select(night_indices=np.array([0, 1, 2])\n",
    "    selection = selector.select(night_indices=night_indices)\n",
    "    pickle_selection(selection, out_dir.path, night_idx)\n",
    "    # Run the optimizer to get the plans for the first night in the selection.\n",
    "    # mr.Md(f'### GreedyMax Output for night {night_idx}')\n",
    "    plans = optimizer.schedule(selection)\n",
    "    night_plans = plans[0]\n",
    "\n",
    "    # Store the plans in the overall_plans array for that night.\n",
    "    # TODO: This might be an issue. We may need to index nights (plans) in optimizer by night_idx.\n",
    "    overall_plans[night_idx] = night_plans\n",
    "\n",
    "    # Perform the time accounting on the plans.\n",
    "    collector.time_accounting(night_plans)\n",
    "\n",
    "\n",
    "overall_plans = [p for _, p in sorted(overall_plans.items())]\n",
    "plan_summary = StatCalculator.calculate_plans_stats(overall_plans,collector)\n",
    "# print_plans(overall_plans)\n",
    "night_tables = plans_table(overall_plans)\n",
    "pickle_plans(night_tables, out_dir.path, start,end)\n",
    "for n_idx, table_per_site in enumerate(night_tables):\n",
    "    mr.Md(f\"## Night Idx: {n_idx+1} \")\n",
    "    for site in sites:\n",
    "        mr.Md(f\"### Site: {site.value[0]} \")\n",
    "        display(table_per_site[site])\n",
    "        \n",
    "        mr.Md(f'Time loss: {overall_plans[n_idx][site].night_stats.timeloss}')\n",
    "        mr.Md(f'Plan score: {overall_plans[n_idx][site].night_stats.plan_score}')\n",
    "mr.Md('## Program Completion')\n",
    "df_pcompl = pd.DataFrame(plan_summary).T.rename(columns={0:\"% Completion\",1:\"Score\"})\n",
    "display(df_pcompl)\n",
    "\n",
    "print('DONE')\n"
   ]
  },
  {
   "cell_type": "code",
   "execution_count": null,
   "outputs": [],
   "source": [],
   "metadata": {
    "collapsed": false,
    "ExecuteTime": {
     "start_time": "2023-08-08T20:35:47.484403Z"
    }
   }
  }
 ],
 "metadata": {
  "kernelspec": {
   "display_name": "scheduler-env",
   "language": "python",
   "name": "python3"
  },
  "language_info": {
   "codemirror_mode": {
    "name": "ipython",
    "version": 3
   },
   "file_extension": ".py",
   "mimetype": "text/x-python",
   "name": "python",
   "nbconvert_exporter": "python",
   "pygments_lexer": "ipython3",
   "version": "3.10.11"
  },
  "orig_nbformat": 4
 },
 "nbformat": 4,
 "nbformat_minor": 2
}
