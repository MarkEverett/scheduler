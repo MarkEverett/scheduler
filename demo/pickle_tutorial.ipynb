{
 "cells": [
  {
   "cell_type": "markdown",
   "source": [
    "# How to handle Pickle output files from the Schedule Test Validator"
   ],
   "metadata": {
    "collapsed": false
   },
   "id": "53c88d35a0996c20"
  },
  {
   "cell_type": "code",
   "execution_count": 1,
   "outputs": [
    {
     "name": "stdout",
     "output_type": "stream",
     "text": [
      "/Users/stroncoso/Code/scheduler/scheduler\n"
     ]
    },
    {
     "name": "stderr",
     "output_type": "stream",
     "text": [
      "/Users/stroncoso/opt/miniconda3/envs/scheduler-env/lib/python3.10/site-packages/erfa/core.py:154: ErfaWarning: ERFA function \"dtf2d\" yielded 1 of \"dubious year (Note 6)\"\n",
      "  warnings.warn('ERFA function \"{}\" yielded {}'.format(func_name, wmsg),\n"
     ]
    }
   ],
   "source": [
    "import os\n",
    "import sys\n",
    "import pickle\n",
    "import mercury as mr\n",
    "import pandas as pd\n",
    "from lucupy.minimodel import Group, NightIndices, Program, ProgramID, Site, UniqueGroupID\n",
    "from scheduler.core.calculations import Selection\n",
    "cwd = os.getcwd().replace('/demo', '')\n",
    "print(cwd)\n",
    "sys.path.insert(0, cwd)"
   ],
   "metadata": {
    "collapsed": false,
    "ExecuteTime": {
     "end_time": "2023-08-25T20:17:05.299458Z",
     "start_time": "2023-08-25T20:17:02.199552Z"
    }
   },
   "id": "53710a9745db47ba"
  },
  {
   "cell_type": "code",
   "execution_count": 2,
   "outputs": [
    {
     "data": {
      "text/plain": "mercury.App",
      "text/html": "<h3>Mercury Application</h3><small>This output won't appear in the web app.</small>",
      "application/mercury+json": "{\n    \"widget\": \"App\",\n    \"title\": \"Pickle Output tutorial\",\n    \"description\": \"Learn how to handle the outputs from the Scheduler Test\",\n    \"show_code\": true,\n    \"show_prompt\": true,\n    \"output\": \"app\",\n    \"schedule\": \"\",\n    \"notify\": \"{}\",\n    \"continuous_update\": false,\n    \"static_notebook\": true,\n    \"show_sidebar\": false,\n    \"full_screen\": true,\n    \"allow_download\": true,\n    \"model_id\": \"mercury-app\",\n    \"code_uid\": \"App.0.40.24.2-rand5d4edbd0\"\n}"
     },
     "metadata": {},
     "output_type": "display_data"
    }
   ],
   "source": [
    "# set Application parameters\n",
    "app = mr.App(title=\"Pickle Output tutorial\",\n",
    "        description=\"Learn how to handle the outputs from the Scheduler Test\",\n",
    "        show_code=True,\n",
    "        show_prompt=True,\n",
    "        continuous_update=False,\n",
    "        static_notebook=True,\n",
    "        show_sidebar=False,\n",
    "        full_screen=True,\n",
    "        allow_download=True)"
   ],
   "metadata": {
    "collapsed": false,
    "ExecuteTime": {
     "end_time": "2023-08-25T20:17:05.399750Z",
     "start_time": "2023-08-25T20:17:05.297065Z"
    }
   },
   "id": "43ca56bb781023f7"
  },
  {
   "cell_type": "markdown",
   "source": [
    "## Pickle file for plans"
   ],
   "metadata": {
    "collapsed": false
   },
   "id": "e7d4b1563c858fb2"
  },
  {
   "cell_type": "code",
   "execution_count": 3,
   "outputs": [
    {
     "name": "stdout",
     "output_type": "stream",
     "text": [
      "Night 1\n",
      "Site.GN\n"
     ]
    },
    {
     "data": {
      "text/plain": "                              Start          Observation  Atom start  \\\n0  2018-09-30 20:16:00.000017-09:00    GN-2018B-Q-230-11           0   \n1  2018-09-30 23:54:00.000017-09:00    GN-2018B-Q-104-12           0   \n2  2018-10-01 00:52:00.000017-09:00     GN-2018B-Q-903-8           0   \n3  2018-10-01 01:15:00.000017-09:00     GN-2018B-Q-230-7           0   \n4  2018-10-01 01:52:00.000017-09:00  GN-2018B-Q-101-1445           0   \n5  2018-10-01 02:10:00.000017-09:00  GN-2018B-Q-101-1386           0   \n6  2018-10-01 03:12:00.000017-09:00  GN-2018B-Q-101-1405           0   \n7  2018-10-01 03:30:00.000017-09:00  GN-2018B-Q-101-1316           0   \n8  2018-10-01 04:32:00.000017-09:00  GN-2018B-Q-101-1449           0   \n9  2018-10-01 04:50:00.000017-09:00  GN-2018B-Q-101-1393           0   \n10 2018-10-01 05:52:00.000017-09:00    GN-2018B-Q-133-18           0   \n11 2018-10-01 06:09:00.000017-09:00    GN-2018B-Q-133-76           0   \n\n    Atom end  Length        Score Instrument  \n0         14     233  4376.426604     GMOS-N  \n1          6      59   243.526152     GMOS-N  \n2          3      23    17.871510     GMOS-N  \n3          3      22     9.106515     GMOS-N  \n4          3      18    34.740559      GNIRS  \n5          1      62   135.073603      GNIRS  \n6          3      18    42.012185      GNIRS  \n7          1      62   152.141703      GNIRS  \n8          3      18    46.034805      GNIRS  \n9          1      62   162.025379      GNIRS  \n10         3      17    47.283132      GNIRS  \n11         3      17    53.196136      GNIRS  ",
      "text/html": "<div>\n<style scoped>\n    .dataframe tbody tr th:only-of-type {\n        vertical-align: middle;\n    }\n\n    .dataframe tbody tr th {\n        vertical-align: top;\n    }\n\n    .dataframe thead th {\n        text-align: right;\n    }\n</style>\n<table border=\"1\" class=\"dataframe\">\n  <thead>\n    <tr style=\"text-align: right;\">\n      <th></th>\n      <th>Start</th>\n      <th>Observation</th>\n      <th>Atom start</th>\n      <th>Atom end</th>\n      <th>Length</th>\n      <th>Score</th>\n      <th>Instrument</th>\n    </tr>\n  </thead>\n  <tbody>\n    <tr>\n      <th>0</th>\n      <td>2018-09-30 20:16:00.000017-09:00</td>\n      <td>GN-2018B-Q-230-11</td>\n      <td>0</td>\n      <td>14</td>\n      <td>233</td>\n      <td>4376.426604</td>\n      <td>GMOS-N</td>\n    </tr>\n    <tr>\n      <th>1</th>\n      <td>2018-09-30 23:54:00.000017-09:00</td>\n      <td>GN-2018B-Q-104-12</td>\n      <td>0</td>\n      <td>6</td>\n      <td>59</td>\n      <td>243.526152</td>\n      <td>GMOS-N</td>\n    </tr>\n    <tr>\n      <th>2</th>\n      <td>2018-10-01 00:52:00.000017-09:00</td>\n      <td>GN-2018B-Q-903-8</td>\n      <td>0</td>\n      <td>3</td>\n      <td>23</td>\n      <td>17.871510</td>\n      <td>GMOS-N</td>\n    </tr>\n    <tr>\n      <th>3</th>\n      <td>2018-10-01 01:15:00.000017-09:00</td>\n      <td>GN-2018B-Q-230-7</td>\n      <td>0</td>\n      <td>3</td>\n      <td>22</td>\n      <td>9.106515</td>\n      <td>GMOS-N</td>\n    </tr>\n    <tr>\n      <th>4</th>\n      <td>2018-10-01 01:52:00.000017-09:00</td>\n      <td>GN-2018B-Q-101-1445</td>\n      <td>0</td>\n      <td>3</td>\n      <td>18</td>\n      <td>34.740559</td>\n      <td>GNIRS</td>\n    </tr>\n    <tr>\n      <th>5</th>\n      <td>2018-10-01 02:10:00.000017-09:00</td>\n      <td>GN-2018B-Q-101-1386</td>\n      <td>0</td>\n      <td>1</td>\n      <td>62</td>\n      <td>135.073603</td>\n      <td>GNIRS</td>\n    </tr>\n    <tr>\n      <th>6</th>\n      <td>2018-10-01 03:12:00.000017-09:00</td>\n      <td>GN-2018B-Q-101-1405</td>\n      <td>0</td>\n      <td>3</td>\n      <td>18</td>\n      <td>42.012185</td>\n      <td>GNIRS</td>\n    </tr>\n    <tr>\n      <th>7</th>\n      <td>2018-10-01 03:30:00.000017-09:00</td>\n      <td>GN-2018B-Q-101-1316</td>\n      <td>0</td>\n      <td>1</td>\n      <td>62</td>\n      <td>152.141703</td>\n      <td>GNIRS</td>\n    </tr>\n    <tr>\n      <th>8</th>\n      <td>2018-10-01 04:32:00.000017-09:00</td>\n      <td>GN-2018B-Q-101-1449</td>\n      <td>0</td>\n      <td>3</td>\n      <td>18</td>\n      <td>46.034805</td>\n      <td>GNIRS</td>\n    </tr>\n    <tr>\n      <th>9</th>\n      <td>2018-10-01 04:50:00.000017-09:00</td>\n      <td>GN-2018B-Q-101-1393</td>\n      <td>0</td>\n      <td>1</td>\n      <td>62</td>\n      <td>162.025379</td>\n      <td>GNIRS</td>\n    </tr>\n    <tr>\n      <th>10</th>\n      <td>2018-10-01 05:52:00.000017-09:00</td>\n      <td>GN-2018B-Q-133-18</td>\n      <td>0</td>\n      <td>3</td>\n      <td>17</td>\n      <td>47.283132</td>\n      <td>GNIRS</td>\n    </tr>\n    <tr>\n      <th>11</th>\n      <td>2018-10-01 06:09:00.000017-09:00</td>\n      <td>GN-2018B-Q-133-76</td>\n      <td>0</td>\n      <td>3</td>\n      <td>17</td>\n      <td>53.196136</td>\n      <td>GNIRS</td>\n    </tr>\n  </tbody>\n</table>\n</div>"
     },
     "metadata": {},
     "output_type": "display_data"
    },
    {
     "name": "stdout",
     "output_type": "stream",
     "text": [
      "Site.GS\n"
     ]
    },
    {
     "data": {
      "text/plain": "                             Start        Observation  Atom start  Atom end  \\\n0 2018-09-30 20:36:00.000005-03:00  GS-2018B-Q-223-30           0       173   \n1 2018-09-30 22:34:00.000005-03:00  GS-2018B-Q-104-21           0         1   \n2 2018-09-30 23:40:00.000005-03:00  GS-2018B-Q-105-92           0         1   \n3 2018-10-01 00:05:00.000005-03:00  GS-2018B-Q-223-18           0       295   \n4 2018-10-01 04:11:00.000005-03:00  GS-2018B-Q-102-34           0         6   \n5 2018-10-01 05:48:00.000005-03:00  GS-2018B-Q-223-31           0        55   \n\n   Length        Score  Instrument  \n0     119   605.880688  Flamingos2  \n1      66   403.369549      GMOS-S  \n2      22    24.273763      GMOS-S  \n3     247  1060.821475  Flamingos2  \n4      97   643.953526  Flamingos2  \n5      43   834.144459  Flamingos2  ",
      "text/html": "<div>\n<style scoped>\n    .dataframe tbody tr th:only-of-type {\n        vertical-align: middle;\n    }\n\n    .dataframe tbody tr th {\n        vertical-align: top;\n    }\n\n    .dataframe thead th {\n        text-align: right;\n    }\n</style>\n<table border=\"1\" class=\"dataframe\">\n  <thead>\n    <tr style=\"text-align: right;\">\n      <th></th>\n      <th>Start</th>\n      <th>Observation</th>\n      <th>Atom start</th>\n      <th>Atom end</th>\n      <th>Length</th>\n      <th>Score</th>\n      <th>Instrument</th>\n    </tr>\n  </thead>\n  <tbody>\n    <tr>\n      <th>0</th>\n      <td>2018-09-30 20:36:00.000005-03:00</td>\n      <td>GS-2018B-Q-223-30</td>\n      <td>0</td>\n      <td>173</td>\n      <td>119</td>\n      <td>605.880688</td>\n      <td>Flamingos2</td>\n    </tr>\n    <tr>\n      <th>1</th>\n      <td>2018-09-30 22:34:00.000005-03:00</td>\n      <td>GS-2018B-Q-104-21</td>\n      <td>0</td>\n      <td>1</td>\n      <td>66</td>\n      <td>403.369549</td>\n      <td>GMOS-S</td>\n    </tr>\n    <tr>\n      <th>2</th>\n      <td>2018-09-30 23:40:00.000005-03:00</td>\n      <td>GS-2018B-Q-105-92</td>\n      <td>0</td>\n      <td>1</td>\n      <td>22</td>\n      <td>24.273763</td>\n      <td>GMOS-S</td>\n    </tr>\n    <tr>\n      <th>3</th>\n      <td>2018-10-01 00:05:00.000005-03:00</td>\n      <td>GS-2018B-Q-223-18</td>\n      <td>0</td>\n      <td>295</td>\n      <td>247</td>\n      <td>1060.821475</td>\n      <td>Flamingos2</td>\n    </tr>\n    <tr>\n      <th>4</th>\n      <td>2018-10-01 04:11:00.000005-03:00</td>\n      <td>GS-2018B-Q-102-34</td>\n      <td>0</td>\n      <td>6</td>\n      <td>97</td>\n      <td>643.953526</td>\n      <td>Flamingos2</td>\n    </tr>\n    <tr>\n      <th>5</th>\n      <td>2018-10-01 05:48:00.000005-03:00</td>\n      <td>GS-2018B-Q-223-31</td>\n      <td>0</td>\n      <td>55</td>\n      <td>43</td>\n      <td>834.144459</td>\n      <td>Flamingos2</td>\n    </tr>\n  </tbody>\n</table>\n</div>"
     },
     "metadata": {},
     "output_type": "display_data"
    },
    {
     "name": "stdout",
     "output_type": "stream",
     "text": [
      "Night 2\n",
      "Site.GN\n"
     ]
    },
    {
     "data": {
      "text/plain": "                              Start          Observation  Atom start  \\\n0  2018-10-01 20:03:59.999980-09:00     GN-2018B-Q-108-5           0   \n1  2018-10-01 20:23:59.999980-09:00    GN-2018B-Q-230-11          15   \n2  2018-10-02 00:59:59.999980-09:00     GN-2018B-Q-103-7           0   \n3  2018-10-02 01:28:59.999980-09:00  GN-2018B-Q-101-1407           0   \n4  2018-10-02 01:47:59.999980-09:00  GN-2018B-Q-101-1451           0   \n5  2018-10-02 02:06:59.999980-09:00  GN-2018B-Q-101-1421           0   \n6  2018-10-02 02:24:59.999980-09:00  GN-2018B-Q-101-1344           0   \n7  2018-10-02 03:26:59.999980-09:00  GN-2018B-Q-101-1433           0   \n8  2018-10-02 03:44:59.999980-09:00  GN-2018B-Q-101-1478           0   \n9  2018-10-02 04:48:59.999980-09:00  GN-2018B-Q-101-1443           0   \n10 2018-10-02 05:07:59.999980-09:00  GN-2018B-Q-101-1379           0   \n11 2018-10-02 06:08:59.999980-09:00    GN-2018B-Q-133-83           0   \n\n    Atom end  Length        Score Instrument  \n0          0      20    23.602973     GMOS-N  \n1         32     276  7575.644348     GMOS-N  \n2          0      18    18.085606     GMOS-N  \n3          3      19    25.894635      GNIRS  \n4          3      19    28.669140      GNIRS  \n5          3      18    71.204299      GNIRS  \n6          1      62   269.975450      GNIRS  \n7          3      18    76.340835      GNIRS  \n8          1      62   272.461223      GNIRS  \n9          3      19    78.040495      GNIRS  \n10         1      62   250.891891      GNIRS  \n11         3      17    80.553161      GNIRS  ",
      "text/html": "<div>\n<style scoped>\n    .dataframe tbody tr th:only-of-type {\n        vertical-align: middle;\n    }\n\n    .dataframe tbody tr th {\n        vertical-align: top;\n    }\n\n    .dataframe thead th {\n        text-align: right;\n    }\n</style>\n<table border=\"1\" class=\"dataframe\">\n  <thead>\n    <tr style=\"text-align: right;\">\n      <th></th>\n      <th>Start</th>\n      <th>Observation</th>\n      <th>Atom start</th>\n      <th>Atom end</th>\n      <th>Length</th>\n      <th>Score</th>\n      <th>Instrument</th>\n    </tr>\n  </thead>\n  <tbody>\n    <tr>\n      <th>0</th>\n      <td>2018-10-01 20:03:59.999980-09:00</td>\n      <td>GN-2018B-Q-108-5</td>\n      <td>0</td>\n      <td>0</td>\n      <td>20</td>\n      <td>23.602973</td>\n      <td>GMOS-N</td>\n    </tr>\n    <tr>\n      <th>1</th>\n      <td>2018-10-01 20:23:59.999980-09:00</td>\n      <td>GN-2018B-Q-230-11</td>\n      <td>15</td>\n      <td>32</td>\n      <td>276</td>\n      <td>7575.644348</td>\n      <td>GMOS-N</td>\n    </tr>\n    <tr>\n      <th>2</th>\n      <td>2018-10-02 00:59:59.999980-09:00</td>\n      <td>GN-2018B-Q-103-7</td>\n      <td>0</td>\n      <td>0</td>\n      <td>18</td>\n      <td>18.085606</td>\n      <td>GMOS-N</td>\n    </tr>\n    <tr>\n      <th>3</th>\n      <td>2018-10-02 01:28:59.999980-09:00</td>\n      <td>GN-2018B-Q-101-1407</td>\n      <td>0</td>\n      <td>3</td>\n      <td>19</td>\n      <td>25.894635</td>\n      <td>GNIRS</td>\n    </tr>\n    <tr>\n      <th>4</th>\n      <td>2018-10-02 01:47:59.999980-09:00</td>\n      <td>GN-2018B-Q-101-1451</td>\n      <td>0</td>\n      <td>3</td>\n      <td>19</td>\n      <td>28.669140</td>\n      <td>GNIRS</td>\n    </tr>\n    <tr>\n      <th>5</th>\n      <td>2018-10-02 02:06:59.999980-09:00</td>\n      <td>GN-2018B-Q-101-1421</td>\n      <td>0</td>\n      <td>3</td>\n      <td>18</td>\n      <td>71.204299</td>\n      <td>GNIRS</td>\n    </tr>\n    <tr>\n      <th>6</th>\n      <td>2018-10-02 02:24:59.999980-09:00</td>\n      <td>GN-2018B-Q-101-1344</td>\n      <td>0</td>\n      <td>1</td>\n      <td>62</td>\n      <td>269.975450</td>\n      <td>GNIRS</td>\n    </tr>\n    <tr>\n      <th>7</th>\n      <td>2018-10-02 03:26:59.999980-09:00</td>\n      <td>GN-2018B-Q-101-1433</td>\n      <td>0</td>\n      <td>3</td>\n      <td>18</td>\n      <td>76.340835</td>\n      <td>GNIRS</td>\n    </tr>\n    <tr>\n      <th>8</th>\n      <td>2018-10-02 03:44:59.999980-09:00</td>\n      <td>GN-2018B-Q-101-1478</td>\n      <td>0</td>\n      <td>1</td>\n      <td>62</td>\n      <td>272.461223</td>\n      <td>GNIRS</td>\n    </tr>\n    <tr>\n      <th>9</th>\n      <td>2018-10-02 04:48:59.999980-09:00</td>\n      <td>GN-2018B-Q-101-1443</td>\n      <td>0</td>\n      <td>3</td>\n      <td>19</td>\n      <td>78.040495</td>\n      <td>GNIRS</td>\n    </tr>\n    <tr>\n      <th>10</th>\n      <td>2018-10-02 05:07:59.999980-09:00</td>\n      <td>GN-2018B-Q-101-1379</td>\n      <td>0</td>\n      <td>1</td>\n      <td>62</td>\n      <td>250.891891</td>\n      <td>GNIRS</td>\n    </tr>\n    <tr>\n      <th>11</th>\n      <td>2018-10-02 06:08:59.999980-09:00</td>\n      <td>GN-2018B-Q-133-83</td>\n      <td>0</td>\n      <td>3</td>\n      <td>17</td>\n      <td>80.553161</td>\n      <td>GNIRS</td>\n    </tr>\n  </tbody>\n</table>\n</div>"
     },
     "metadata": {},
     "output_type": "display_data"
    },
    {
     "name": "stdout",
     "output_type": "stream",
     "text": [
      "Site.GS\n"
     ]
    },
    {
     "data": {
      "text/plain": "                             Start        Observation  Atom start  Atom end  \\\n0 2018-10-01 20:37:00.000002-03:00  GS-2018B-Q-223-30         174       385   \n1 2018-10-01 23:00:00.000002-03:00  GS-2018B-Q-223-32           0       283   \n2 2018-10-02 02:09:00.000002-03:00   GS-2018B-Q-104-7           0         0   \n3 2018-10-02 02:47:00.000002-03:00  GS-2018B-Q-223-18         296       387   \n4 2018-10-02 04:08:00.000002-03:00  GS-2018B-Q-223-34           0       140   \n5 2018-10-02 05:45:00.000002-03:00  GS-2018B-Q-223-31          56       113   \n\n   Length        Score  Instrument  \n0     143  1316.048544  Flamingos2  \n1     190  1777.318608  Flamingos2  \n2      27    84.626243      GMOS-S  \n3      81   716.518896  Flamingos2  \n4      98  1368.700410  Flamingos2  \n5      44  1630.053470  Flamingos2  ",
      "text/html": "<div>\n<style scoped>\n    .dataframe tbody tr th:only-of-type {\n        vertical-align: middle;\n    }\n\n    .dataframe tbody tr th {\n        vertical-align: top;\n    }\n\n    .dataframe thead th {\n        text-align: right;\n    }\n</style>\n<table border=\"1\" class=\"dataframe\">\n  <thead>\n    <tr style=\"text-align: right;\">\n      <th></th>\n      <th>Start</th>\n      <th>Observation</th>\n      <th>Atom start</th>\n      <th>Atom end</th>\n      <th>Length</th>\n      <th>Score</th>\n      <th>Instrument</th>\n    </tr>\n  </thead>\n  <tbody>\n    <tr>\n      <th>0</th>\n      <td>2018-10-01 20:37:00.000002-03:00</td>\n      <td>GS-2018B-Q-223-30</td>\n      <td>174</td>\n      <td>385</td>\n      <td>143</td>\n      <td>1316.048544</td>\n      <td>Flamingos2</td>\n    </tr>\n    <tr>\n      <th>1</th>\n      <td>2018-10-01 23:00:00.000002-03:00</td>\n      <td>GS-2018B-Q-223-32</td>\n      <td>0</td>\n      <td>283</td>\n      <td>190</td>\n      <td>1777.318608</td>\n      <td>Flamingos2</td>\n    </tr>\n    <tr>\n      <th>2</th>\n      <td>2018-10-02 02:09:00.000002-03:00</td>\n      <td>GS-2018B-Q-104-7</td>\n      <td>0</td>\n      <td>0</td>\n      <td>27</td>\n      <td>84.626243</td>\n      <td>GMOS-S</td>\n    </tr>\n    <tr>\n      <th>3</th>\n      <td>2018-10-02 02:47:00.000002-03:00</td>\n      <td>GS-2018B-Q-223-18</td>\n      <td>296</td>\n      <td>387</td>\n      <td>81</td>\n      <td>716.518896</td>\n      <td>Flamingos2</td>\n    </tr>\n    <tr>\n      <th>4</th>\n      <td>2018-10-02 04:08:00.000002-03:00</td>\n      <td>GS-2018B-Q-223-34</td>\n      <td>0</td>\n      <td>140</td>\n      <td>98</td>\n      <td>1368.700410</td>\n      <td>Flamingos2</td>\n    </tr>\n    <tr>\n      <th>5</th>\n      <td>2018-10-02 05:45:00.000002-03:00</td>\n      <td>GS-2018B-Q-223-31</td>\n      <td>56</td>\n      <td>113</td>\n      <td>44</td>\n      <td>1630.053470</td>\n      <td>Flamingos2</td>\n    </tr>\n  </tbody>\n</table>\n</div>"
     },
     "metadata": {},
     "output_type": "display_data"
    },
    {
     "name": "stdout",
     "output_type": "stream",
     "text": [
      "Night 3\n",
      "Site.GN\n"
     ]
    },
    {
     "data": {
      "text/plain": "                              Start          Observation  Atom start  \\\n0  2018-10-02 19:56:59.999984-09:00    GN-2018B-Q-104-11           0   \n1  2018-10-02 21:09:59.999984-09:00     GN-2018B-Q-104-7           0   \n2  2018-10-02 22:10:59.999984-09:00    GN-2018B-Q-104-10           0   \n3  2018-10-02 23:31:59.999984-09:00    GN-2018B-Q-104-12           7   \n4  2018-10-03 00:00:59.999984-09:00     GN-2018B-Q-104-7           8   \n5  2018-10-03 00:21:59.999984-09:00    GN-2018B-Q-303-46           0   \n6  2018-10-03 01:07:59.999984-09:00     GN-2018B-Q-223-5           0   \n7  2018-10-03 01:27:59.999984-09:00  GN-2018B-Q-101-1441           0   \n8  2018-10-03 01:45:59.999984-09:00  GN-2018B-Q-101-1447           0   \n9  2018-10-03 02:04:59.999984-09:00  GN-2018B-Q-101-1435           0   \n10 2018-10-03 02:24:59.999984-09:00  GN-2018B-Q-101-1429           0   \n11 2018-10-03 02:44:59.999984-09:00  GN-2018B-Q-101-1358           0   \n12 2018-10-03 03:45:59.999984-09:00  GN-2018B-Q-101-1477           0   \n13 2018-10-03 04:47:59.999984-09:00  GN-2018B-Q-101-1453           0   \n14 2018-10-03 05:05:59.999984-09:00  GN-2018B-Q-101-1460           0   \n15 2018-10-03 05:23:59.999984-09:00  GN-2018B-Q-101-1457           0   \n\n    Atom end  Length        Score Instrument  \n0          1      73  3729.545173     GMOS-N  \n1          7      66  1205.632242     GMOS-N  \n2          9      81  1287.130120     GMOS-N  \n3          9      29   544.465149     GMOS-N  \n4          9      21   405.328566     GMOS-N  \n5          4      56    23.689272     GMOS-N  \n6          0      20    12.638622     GMOS-N  \n7          3      18    77.042613      GNIRS  \n8          3      19    82.586798      GNIRS  \n9          1      20   103.807238      GNIRS  \n10         1      20   241.484556      GNIRS  \n11         1      62   807.195689      GNIRS  \n12         1      62   768.076942      GNIRS  \n13         3      18   225.195306      GNIRS  \n14         3      18   201.840687      GNIRS  \n15         1      62   675.366047      GNIRS  ",
      "text/html": "<div>\n<style scoped>\n    .dataframe tbody tr th:only-of-type {\n        vertical-align: middle;\n    }\n\n    .dataframe tbody tr th {\n        vertical-align: top;\n    }\n\n    .dataframe thead th {\n        text-align: right;\n    }\n</style>\n<table border=\"1\" class=\"dataframe\">\n  <thead>\n    <tr style=\"text-align: right;\">\n      <th></th>\n      <th>Start</th>\n      <th>Observation</th>\n      <th>Atom start</th>\n      <th>Atom end</th>\n      <th>Length</th>\n      <th>Score</th>\n      <th>Instrument</th>\n    </tr>\n  </thead>\n  <tbody>\n    <tr>\n      <th>0</th>\n      <td>2018-10-02 19:56:59.999984-09:00</td>\n      <td>GN-2018B-Q-104-11</td>\n      <td>0</td>\n      <td>1</td>\n      <td>73</td>\n      <td>3729.545173</td>\n      <td>GMOS-N</td>\n    </tr>\n    <tr>\n      <th>1</th>\n      <td>2018-10-02 21:09:59.999984-09:00</td>\n      <td>GN-2018B-Q-104-7</td>\n      <td>0</td>\n      <td>7</td>\n      <td>66</td>\n      <td>1205.632242</td>\n      <td>GMOS-N</td>\n    </tr>\n    <tr>\n      <th>2</th>\n      <td>2018-10-02 22:10:59.999984-09:00</td>\n      <td>GN-2018B-Q-104-10</td>\n      <td>0</td>\n      <td>9</td>\n      <td>81</td>\n      <td>1287.130120</td>\n      <td>GMOS-N</td>\n    </tr>\n    <tr>\n      <th>3</th>\n      <td>2018-10-02 23:31:59.999984-09:00</td>\n      <td>GN-2018B-Q-104-12</td>\n      <td>7</td>\n      <td>9</td>\n      <td>29</td>\n      <td>544.465149</td>\n      <td>GMOS-N</td>\n    </tr>\n    <tr>\n      <th>4</th>\n      <td>2018-10-03 00:00:59.999984-09:00</td>\n      <td>GN-2018B-Q-104-7</td>\n      <td>8</td>\n      <td>9</td>\n      <td>21</td>\n      <td>405.328566</td>\n      <td>GMOS-N</td>\n    </tr>\n    <tr>\n      <th>5</th>\n      <td>2018-10-03 00:21:59.999984-09:00</td>\n      <td>GN-2018B-Q-303-46</td>\n      <td>0</td>\n      <td>4</td>\n      <td>56</td>\n      <td>23.689272</td>\n      <td>GMOS-N</td>\n    </tr>\n    <tr>\n      <th>6</th>\n      <td>2018-10-03 01:07:59.999984-09:00</td>\n      <td>GN-2018B-Q-223-5</td>\n      <td>0</td>\n      <td>0</td>\n      <td>20</td>\n      <td>12.638622</td>\n      <td>GMOS-N</td>\n    </tr>\n    <tr>\n      <th>7</th>\n      <td>2018-10-03 01:27:59.999984-09:00</td>\n      <td>GN-2018B-Q-101-1441</td>\n      <td>0</td>\n      <td>3</td>\n      <td>18</td>\n      <td>77.042613</td>\n      <td>GNIRS</td>\n    </tr>\n    <tr>\n      <th>8</th>\n      <td>2018-10-03 01:45:59.999984-09:00</td>\n      <td>GN-2018B-Q-101-1447</td>\n      <td>0</td>\n      <td>3</td>\n      <td>19</td>\n      <td>82.586798</td>\n      <td>GNIRS</td>\n    </tr>\n    <tr>\n      <th>9</th>\n      <td>2018-10-03 02:04:59.999984-09:00</td>\n      <td>GN-2018B-Q-101-1435</td>\n      <td>0</td>\n      <td>1</td>\n      <td>20</td>\n      <td>103.807238</td>\n      <td>GNIRS</td>\n    </tr>\n    <tr>\n      <th>10</th>\n      <td>2018-10-03 02:24:59.999984-09:00</td>\n      <td>GN-2018B-Q-101-1429</td>\n      <td>0</td>\n      <td>1</td>\n      <td>20</td>\n      <td>241.484556</td>\n      <td>GNIRS</td>\n    </tr>\n    <tr>\n      <th>11</th>\n      <td>2018-10-03 02:44:59.999984-09:00</td>\n      <td>GN-2018B-Q-101-1358</td>\n      <td>0</td>\n      <td>1</td>\n      <td>62</td>\n      <td>807.195689</td>\n      <td>GNIRS</td>\n    </tr>\n    <tr>\n      <th>12</th>\n      <td>2018-10-03 03:45:59.999984-09:00</td>\n      <td>GN-2018B-Q-101-1477</td>\n      <td>0</td>\n      <td>1</td>\n      <td>62</td>\n      <td>768.076942</td>\n      <td>GNIRS</td>\n    </tr>\n    <tr>\n      <th>13</th>\n      <td>2018-10-03 04:47:59.999984-09:00</td>\n      <td>GN-2018B-Q-101-1453</td>\n      <td>0</td>\n      <td>3</td>\n      <td>18</td>\n      <td>225.195306</td>\n      <td>GNIRS</td>\n    </tr>\n    <tr>\n      <th>14</th>\n      <td>2018-10-03 05:05:59.999984-09:00</td>\n      <td>GN-2018B-Q-101-1460</td>\n      <td>0</td>\n      <td>3</td>\n      <td>18</td>\n      <td>201.840687</td>\n      <td>GNIRS</td>\n    </tr>\n    <tr>\n      <th>15</th>\n      <td>2018-10-03 05:23:59.999984-09:00</td>\n      <td>GN-2018B-Q-101-1457</td>\n      <td>0</td>\n      <td>1</td>\n      <td>62</td>\n      <td>675.366047</td>\n      <td>GNIRS</td>\n    </tr>\n  </tbody>\n</table>\n</div>"
     },
     "metadata": {},
     "output_type": "display_data"
    },
    {
     "name": "stdout",
     "output_type": "stream",
     "text": [
      "Site.GS\n"
     ]
    },
    {
     "data": {
      "text/plain": "                             Start        Observation  Atom start  Atom end  \\\n0 2018-10-02 22:48:59.999998-03:00  GS-2018B-Q-223-32         284       377   \n1 2018-10-02 23:55:59.999998-03:00  GS-2018B-Q-105-90           0         1   \n2 2018-10-03 00:24:59.999998-03:00   GS-2018B-Q-105-9           0         1   \n3 2018-10-03 00:45:59.999998-03:00  GS-2018B-Q-105-87           0         1   \n4 2018-10-03 01:17:59.999998-03:00   GS-2018B-Q-108-8           0         3   \n5 2018-10-03 02:17:59.999998-03:00  GS-2018B-Q-105-14           0         1   \n6 2018-10-03 02:38:59.999998-03:00   GS-2018B-Q-120-8           0         3   \n7 2018-10-03 03:02:59.999998-03:00  GS-2018B-Q-223-33           0        85   \n8 2018-10-03 04:03:59.999998-03:00  GS-2018B-Q-223-34         141       282   \n9 2018-10-03 05:40:59.999998-03:00  GS-2018B-Q-223-31         114       176   \n\n   Length        Score  Instrument  \n0      67  1514.149577  Flamingos2  \n1      29   109.603713      GMOS-S  \n2      21    57.053619      GMOS-S  \n3      20    50.960444      GMOS-S  \n4      24    62.175894      GMOS-S  \n5      21    47.821084      GMOS-S  \n6      24    74.259592      GMOS-S  \n7      62  1154.156257  Flamingos2  \n8      98  4125.703511  Flamingos2  \n9      47  5455.738639  Flamingos2  ",
      "text/html": "<div>\n<style scoped>\n    .dataframe tbody tr th:only-of-type {\n        vertical-align: middle;\n    }\n\n    .dataframe tbody tr th {\n        vertical-align: top;\n    }\n\n    .dataframe thead th {\n        text-align: right;\n    }\n</style>\n<table border=\"1\" class=\"dataframe\">\n  <thead>\n    <tr style=\"text-align: right;\">\n      <th></th>\n      <th>Start</th>\n      <th>Observation</th>\n      <th>Atom start</th>\n      <th>Atom end</th>\n      <th>Length</th>\n      <th>Score</th>\n      <th>Instrument</th>\n    </tr>\n  </thead>\n  <tbody>\n    <tr>\n      <th>0</th>\n      <td>2018-10-02 22:48:59.999998-03:00</td>\n      <td>GS-2018B-Q-223-32</td>\n      <td>284</td>\n      <td>377</td>\n      <td>67</td>\n      <td>1514.149577</td>\n      <td>Flamingos2</td>\n    </tr>\n    <tr>\n      <th>1</th>\n      <td>2018-10-02 23:55:59.999998-03:00</td>\n      <td>GS-2018B-Q-105-90</td>\n      <td>0</td>\n      <td>1</td>\n      <td>29</td>\n      <td>109.603713</td>\n      <td>GMOS-S</td>\n    </tr>\n    <tr>\n      <th>2</th>\n      <td>2018-10-03 00:24:59.999998-03:00</td>\n      <td>GS-2018B-Q-105-9</td>\n      <td>0</td>\n      <td>1</td>\n      <td>21</td>\n      <td>57.053619</td>\n      <td>GMOS-S</td>\n    </tr>\n    <tr>\n      <th>3</th>\n      <td>2018-10-03 00:45:59.999998-03:00</td>\n      <td>GS-2018B-Q-105-87</td>\n      <td>0</td>\n      <td>1</td>\n      <td>20</td>\n      <td>50.960444</td>\n      <td>GMOS-S</td>\n    </tr>\n    <tr>\n      <th>4</th>\n      <td>2018-10-03 01:17:59.999998-03:00</td>\n      <td>GS-2018B-Q-108-8</td>\n      <td>0</td>\n      <td>3</td>\n      <td>24</td>\n      <td>62.175894</td>\n      <td>GMOS-S</td>\n    </tr>\n    <tr>\n      <th>5</th>\n      <td>2018-10-03 02:17:59.999998-03:00</td>\n      <td>GS-2018B-Q-105-14</td>\n      <td>0</td>\n      <td>1</td>\n      <td>21</td>\n      <td>47.821084</td>\n      <td>GMOS-S</td>\n    </tr>\n    <tr>\n      <th>6</th>\n      <td>2018-10-03 02:38:59.999998-03:00</td>\n      <td>GS-2018B-Q-120-8</td>\n      <td>0</td>\n      <td>3</td>\n      <td>24</td>\n      <td>74.259592</td>\n      <td>GMOS-S</td>\n    </tr>\n    <tr>\n      <th>7</th>\n      <td>2018-10-03 03:02:59.999998-03:00</td>\n      <td>GS-2018B-Q-223-33</td>\n      <td>0</td>\n      <td>85</td>\n      <td>62</td>\n      <td>1154.156257</td>\n      <td>Flamingos2</td>\n    </tr>\n    <tr>\n      <th>8</th>\n      <td>2018-10-03 04:03:59.999998-03:00</td>\n      <td>GS-2018B-Q-223-34</td>\n      <td>141</td>\n      <td>282</td>\n      <td>98</td>\n      <td>4125.703511</td>\n      <td>Flamingos2</td>\n    </tr>\n    <tr>\n      <th>9</th>\n      <td>2018-10-03 05:40:59.999998-03:00</td>\n      <td>GS-2018B-Q-223-31</td>\n      <td>114</td>\n      <td>176</td>\n      <td>47</td>\n      <td>5455.738639</td>\n      <td>Flamingos2</td>\n    </tr>\n  </tbody>\n</table>\n</div>"
     },
     "metadata": {},
     "output_type": "display_data"
    }
   ],
   "source": [
    "# Load pickle\n",
    "file = open('plans_2018-10-01 08:00:00_to_2018-10-03 08:00:00.pickle', 'rb')\n",
    "plans = pickle.load(file)\n",
    "file.close()\n",
    "# On top is a list of n-nights\n",
    "for night_idx, night_plan in enumerate(plans):\n",
    "    print(f'Night {night_idx+1}')\n",
    "    # then is a dict for each site\n",
    "    for site, site_plan in night_plan.items():\n",
    "        print(site)\n",
    "        # and the data frame showing the plan\n",
    "        display(site_plan)"
   ],
   "metadata": {
    "collapsed": false,
    "ExecuteTime": {
     "end_time": "2023-08-25T20:17:05.457910Z",
     "start_time": "2023-08-25T20:17:05.394913Z"
    }
   },
   "id": "d9c29dbd8705765f"
  },
  {
   "cell_type": "markdown",
   "source": [
    "## Use Selection pickle to check all selected observations for each night\n",
    "For this we would use the Selection object in our `calculations` module:\n",
    "\n",
    "```\n",
    "class Selection:\n",
    "    \"\"\"\n",
    "    The selection of information passed by the Selector to the Optimizer.\n",
    "    This includes the list of programs that are schedulable and the night event for the nights under consideration.\n",
    "    \"\"\"\n",
    "    program_info: Mapping[ProgramID, ProgramInfo]\n",
    "    schedulable_groups: Mapping[UniqueGroupID, GroupData]\n",
    "    night_events: Mapping[Site, NightEvents]\n",
    "    night_indices: NightIndices\n",
    "    time_slot_length: timedelta\n",
    "    _program_scorer: Callable[[Program, Optional[FrozenSet[Site]], Optional[NightIndices], Optional[Ranker]],\n",
    "                              Optional[ProgramCalculations]]\n",
    "```\n"
   ],
   "metadata": {
    "collapsed": false
   },
   "id": "cf8b501acecd96c5"
  },
  {
   "cell_type": "code",
   "execution_count": 4,
   "outputs": [
    {
     "name": "stdout",
     "output_type": "stream",
     "text": [
      "night indices: [0]\n",
      "time slot length (in minutes): 0:01:00\n"
     ]
    },
    {
     "data": {
      "text/plain": "                                                              scores\nGN-2018B-Q-101:19  [0.0, 0.0, 0.0, 0.0, 0.0, 0.0, 0.0, 0.0, 0.0, ...\nGN-2018B-Q-101:20  [0.0, 0.0, 0.0, 0.0, 0.0, 0.0, 0.0, 0.0, 0.0, ...\nGN-2018B-Q-101:16  [0.0, 0.0, 0.0, 0.0, 0.0, 0.0, 0.0, 0.0, 0.0, ...\nGN-2018B-Q-101:13  [0.0, 0.0, 0.0, 0.0, 0.0, 0.0, 0.0, 0.0, 0.0, ...\nGN-2018B-Q-101:12  [0.0, 0.0, 0.0, 0.0, 0.0, 0.0, 0.0, 0.0, 0.0, ...\nGN-2018B-Q-101:17  [0.0, 0.0, 0.0, 0.0, 0.0, 0.0, 0.0, 0.0, 0.0, ...\nGN-2018B-Q-101:18  [0.0, 0.0, 0.0, 0.0, 0.0, 0.0, 0.0, 0.0, 0.0, ...\nGN-2018B-Q-101:14  [0.0, 0.0, 0.0, 0.0, 0.0, 0.0, 0.0, 0.0, 0.0, ...\nGN-2018B-Q-101:11  [0.0, 0.0, 0.0, 0.0, 0.0, 0.0, 0.0, 0.0, 0.0, ...\nGN-2018B-Q-101:15  [0.0, 0.0, 0.0, 0.0, 0.0, 0.0, 0.0, 0.0, 0.0, ...\nGN-2018B-Q-101:10  [0.0, 0.0, 0.0, 0.0, 0.0, 0.0, 0.0, 0.0, 0.0, ...\nGN-2018B-Q-104:16  [3.594623168340435, 3.6032674511782035, 3.6118...\nGN-2018B-Q-104:15  [3.594623168340435, 3.6032674511782035, 3.6118...\nGN-2018B-Q-104:13  [17.253121092610677, 17.21677972237815, 17.180...\nGN-2018B-Q-104:17  [3.594623168340435, 3.6032674511782035, 3.6118...\nGN-2018B-Q-133-83  [0.0, 0.0, 0.0, 0.0, 0.0, 0.0, 0.0, 0.0, 0.0, ...\nGN-2018B-Q-133-76  [0.0, 0.0, 0.0, 0.0, 0.0, 0.0, 0.0, 0.0, 0.0, ...\nGN-2018B-Q-133-18  [0.0, 0.0, 0.0, 0.0, 0.0, 0.0, 0.0, 0.0, 0.0, ...\nGN-2018B-Q-223-5   [0.0, 0.0, 0.0, 0.0, 0.0, 0.0, 0.0, 0.0, 0.0, ...\nGN-2018B-Q-230-7   [0.4994604222850775, 0.5000599403294398, 0.500...\nGN-2018B-Q-230:8   [0.0, 0.0, 0.0, 0.0, 0.0, 0.0, 0.0, 0.0, 0.0, ...\nGN-2018B-Q-303:14  [0.0, 0.0, 0.0, 0.0, 0.0, 0.0, 0.0, 0.0, 0.0, ...\nGN-2018B-Q-303:15  [0.0, 0.0, 0.0, 0.0, 0.0, 0.0, 0.0, 0.0, 0.0, ...\nGN-2018B-Q-303:13  [0.0, 0.0, 0.0, 0.0, 0.0, 0.0, 0.0, 0.0, 0.0, ...\nGN-2018B-Q-903-8   [1.2020820284751588, 1.2035249253188716, 1.204...\nGS-2018B-Q-102:12  [0.0, 0.0, 0.0, 0.0, 0.0, 0.0, 0.0, 0.0, 0.0, ...\nGS-2018B-Q-102:11  [0.0, 0.0, 0.0, 0.0, 0.0, 0.0, 0.0, 0.0, 0.0, ...\nGS-2018B-Q-102:14  [0.0, 0.0, 0.0, 0.0, 0.0, 0.0, 0.0, 0.0, 0.0, ...\nGS-2018B-Q-102:9   [0.0, 0.0, 0.0, 0.0, 0.0, 0.0, 0.0, 0.0, 0.0, ...\nGS-2018B-Q-102:10  [0.0, 0.0, 0.0, 0.0, 0.0, 0.0, 0.0, 0.0, 0.0, ...\nGS-2018B-Q-102:16  [0.0, 0.0, 0.0, 0.0, 0.0, 0.0, 0.0, 0.0, 0.0, ...\nGS-2018B-Q-102:23  [0.0, 0.0, 0.0, 0.0, 0.0, 0.0, 0.0, 0.0, 0.0, ...\nGS-2018B-Q-102:22  [0.0, 0.0, 0.0, 0.0, 0.0, 0.0, 0.0, 0.0, 0.0, ...\nGS-2018B-Q-102:17  [0.0, 0.0, 0.0, 0.0, 0.0, 0.0, 0.0, 0.0, 0.0, ...\nGS-2018B-Q-102:7   [0.0, 0.0, 0.0, 0.0, 0.0, 0.0, 0.0, 0.0, 0.0, ...\nGS-2018B-Q-102:13  [0.0, 0.0, 0.0, 0.0, 0.0, 0.0, 0.0, 0.0, 0.0, ...\nGS-2018B-Q-102:15  [0.0, 0.0, 0.0, 0.0, 0.0, 0.0, 0.0, 0.0, 0.0, ...\nGS-2018B-Q-102:24  [0.0, 0.0, 0.0, 0.0, 0.0, 0.0, 0.0, 0.0, 0.0, ...\nGS-2018B-Q-102:6   [0.0, 0.0, 0.0, 0.0, 0.0, 0.0, 0.0, 0.0, 0.0, ...\nGS-2018B-Q-102:21  [0.0, 0.0, 0.0, 0.0, 0.0, 0.0, 0.0, 0.0, 0.0, ...\nGS-2018B-Q-102:8   [0.0, 0.0, 0.0, 0.0, 0.0, 0.0, 0.0, 0.0, 0.0, ...\nGS-2018B-Q-104:4   [0.0, 0.0, 0.0, 0.0, 0.0, 0.0, 0.0, 0.0, 0.0, ...\nGS-2018B-Q-104-7   [0.9287191338757078, 0.9326655983689428, 0.936...\nGS-2018B-Q-105-9   [0.5474878728896847, 0.5505039445496879, 0.553...\nGS-2018B-Q-105-92  [1.3303972636682944, 1.3311714818075744, 1.331...\nGS-2018B-Q-105-90  [0.764114739155147, 0.7683241927775488, 0.7725...\nGS-2018B-Q-105-87  [0.6004276810939447, 0.6029791161163978, 0.605...\nGS-2018B-Q-105-14  [0.0, 0.0, 0.0, 0.0, 0.0, 0.0, 0.0, 0.0, 0.0, ...\nGS-2018B-Q-108-8   [0.0, 0.0, 0.0, 0.0, 0.0, 0.0, 0.0, 0.0, 0.0, ...\nGS-2018B-Q-206-16  [0.20331843202227534, 0.2044387347275574, 0.20...\nGS-2018B-Q-223:15  [4.273664195417177, 4.275380368923559, 4.27703...\nGS-2018B-Q-223:16  [2.7309881725487513, 2.7401174610715677, 2.749...\nGS-2018B-Q-223:18  [0.0, 0.0, 0.0, 0.0, 0.0, 0.0, 0.0, 0.0, 0.0, ...\nGS-2018B-Q-223:13  [0.0, 0.0, 0.0, 0.0, 0.0, 0.0, 0.0, 0.0, 0.0, ...\nGS-2018B-Q-223:17  [0.0, 0.0, 0.0, 0.0, 0.0, 0.0, 0.0, 0.0, 0.0, ...\nGS-2018B-Q-223:14  [0.0, 0.0, 0.0, 0.0, 0.0, 0.0, 0.0, 0.0, 0.0, ...\nGS-2018B-Q-313-7   [0.10448154521070677, 0.10615090652760924, 0.1...\nGS-2018B-Q-313:3   [0.0, 0.0, 0.0, 0.0, 0.0, 0.0, 0.0, 0.0, 0.0, ...",
      "text/html": "<div>\n<style scoped>\n    .dataframe tbody tr th:only-of-type {\n        vertical-align: middle;\n    }\n\n    .dataframe tbody tr th {\n        vertical-align: top;\n    }\n\n    .dataframe thead th {\n        text-align: right;\n    }\n</style>\n<table border=\"1\" class=\"dataframe\">\n  <thead>\n    <tr style=\"text-align: right;\">\n      <th></th>\n      <th>scores</th>\n    </tr>\n  </thead>\n  <tbody>\n    <tr>\n      <th>GN-2018B-Q-101:19</th>\n      <td>[0.0, 0.0, 0.0, 0.0, 0.0, 0.0, 0.0, 0.0, 0.0, ...</td>\n    </tr>\n    <tr>\n      <th>GN-2018B-Q-101:20</th>\n      <td>[0.0, 0.0, 0.0, 0.0, 0.0, 0.0, 0.0, 0.0, 0.0, ...</td>\n    </tr>\n    <tr>\n      <th>GN-2018B-Q-101:16</th>\n      <td>[0.0, 0.0, 0.0, 0.0, 0.0, 0.0, 0.0, 0.0, 0.0, ...</td>\n    </tr>\n    <tr>\n      <th>GN-2018B-Q-101:13</th>\n      <td>[0.0, 0.0, 0.0, 0.0, 0.0, 0.0, 0.0, 0.0, 0.0, ...</td>\n    </tr>\n    <tr>\n      <th>GN-2018B-Q-101:12</th>\n      <td>[0.0, 0.0, 0.0, 0.0, 0.0, 0.0, 0.0, 0.0, 0.0, ...</td>\n    </tr>\n    <tr>\n      <th>GN-2018B-Q-101:17</th>\n      <td>[0.0, 0.0, 0.0, 0.0, 0.0, 0.0, 0.0, 0.0, 0.0, ...</td>\n    </tr>\n    <tr>\n      <th>GN-2018B-Q-101:18</th>\n      <td>[0.0, 0.0, 0.0, 0.0, 0.0, 0.0, 0.0, 0.0, 0.0, ...</td>\n    </tr>\n    <tr>\n      <th>GN-2018B-Q-101:14</th>\n      <td>[0.0, 0.0, 0.0, 0.0, 0.0, 0.0, 0.0, 0.0, 0.0, ...</td>\n    </tr>\n    <tr>\n      <th>GN-2018B-Q-101:11</th>\n      <td>[0.0, 0.0, 0.0, 0.0, 0.0, 0.0, 0.0, 0.0, 0.0, ...</td>\n    </tr>\n    <tr>\n      <th>GN-2018B-Q-101:15</th>\n      <td>[0.0, 0.0, 0.0, 0.0, 0.0, 0.0, 0.0, 0.0, 0.0, ...</td>\n    </tr>\n    <tr>\n      <th>GN-2018B-Q-101:10</th>\n      <td>[0.0, 0.0, 0.0, 0.0, 0.0, 0.0, 0.0, 0.0, 0.0, ...</td>\n    </tr>\n    <tr>\n      <th>GN-2018B-Q-104:16</th>\n      <td>[3.594623168340435, 3.6032674511782035, 3.6118...</td>\n    </tr>\n    <tr>\n      <th>GN-2018B-Q-104:15</th>\n      <td>[3.594623168340435, 3.6032674511782035, 3.6118...</td>\n    </tr>\n    <tr>\n      <th>GN-2018B-Q-104:13</th>\n      <td>[17.253121092610677, 17.21677972237815, 17.180...</td>\n    </tr>\n    <tr>\n      <th>GN-2018B-Q-104:17</th>\n      <td>[3.594623168340435, 3.6032674511782035, 3.6118...</td>\n    </tr>\n    <tr>\n      <th>GN-2018B-Q-133-83</th>\n      <td>[0.0, 0.0, 0.0, 0.0, 0.0, 0.0, 0.0, 0.0, 0.0, ...</td>\n    </tr>\n    <tr>\n      <th>GN-2018B-Q-133-76</th>\n      <td>[0.0, 0.0, 0.0, 0.0, 0.0, 0.0, 0.0, 0.0, 0.0, ...</td>\n    </tr>\n    <tr>\n      <th>GN-2018B-Q-133-18</th>\n      <td>[0.0, 0.0, 0.0, 0.0, 0.0, 0.0, 0.0, 0.0, 0.0, ...</td>\n    </tr>\n    <tr>\n      <th>GN-2018B-Q-223-5</th>\n      <td>[0.0, 0.0, 0.0, 0.0, 0.0, 0.0, 0.0, 0.0, 0.0, ...</td>\n    </tr>\n    <tr>\n      <th>GN-2018B-Q-230-7</th>\n      <td>[0.4994604222850775, 0.5000599403294398, 0.500...</td>\n    </tr>\n    <tr>\n      <th>GN-2018B-Q-230:8</th>\n      <td>[0.0, 0.0, 0.0, 0.0, 0.0, 0.0, 0.0, 0.0, 0.0, ...</td>\n    </tr>\n    <tr>\n      <th>GN-2018B-Q-303:14</th>\n      <td>[0.0, 0.0, 0.0, 0.0, 0.0, 0.0, 0.0, 0.0, 0.0, ...</td>\n    </tr>\n    <tr>\n      <th>GN-2018B-Q-303:15</th>\n      <td>[0.0, 0.0, 0.0, 0.0, 0.0, 0.0, 0.0, 0.0, 0.0, ...</td>\n    </tr>\n    <tr>\n      <th>GN-2018B-Q-303:13</th>\n      <td>[0.0, 0.0, 0.0, 0.0, 0.0, 0.0, 0.0, 0.0, 0.0, ...</td>\n    </tr>\n    <tr>\n      <th>GN-2018B-Q-903-8</th>\n      <td>[1.2020820284751588, 1.2035249253188716, 1.204...</td>\n    </tr>\n    <tr>\n      <th>GS-2018B-Q-102:12</th>\n      <td>[0.0, 0.0, 0.0, 0.0, 0.0, 0.0, 0.0, 0.0, 0.0, ...</td>\n    </tr>\n    <tr>\n      <th>GS-2018B-Q-102:11</th>\n      <td>[0.0, 0.0, 0.0, 0.0, 0.0, 0.0, 0.0, 0.0, 0.0, ...</td>\n    </tr>\n    <tr>\n      <th>GS-2018B-Q-102:14</th>\n      <td>[0.0, 0.0, 0.0, 0.0, 0.0, 0.0, 0.0, 0.0, 0.0, ...</td>\n    </tr>\n    <tr>\n      <th>GS-2018B-Q-102:9</th>\n      <td>[0.0, 0.0, 0.0, 0.0, 0.0, 0.0, 0.0, 0.0, 0.0, ...</td>\n    </tr>\n    <tr>\n      <th>GS-2018B-Q-102:10</th>\n      <td>[0.0, 0.0, 0.0, 0.0, 0.0, 0.0, 0.0, 0.0, 0.0, ...</td>\n    </tr>\n    <tr>\n      <th>GS-2018B-Q-102:16</th>\n      <td>[0.0, 0.0, 0.0, 0.0, 0.0, 0.0, 0.0, 0.0, 0.0, ...</td>\n    </tr>\n    <tr>\n      <th>GS-2018B-Q-102:23</th>\n      <td>[0.0, 0.0, 0.0, 0.0, 0.0, 0.0, 0.0, 0.0, 0.0, ...</td>\n    </tr>\n    <tr>\n      <th>GS-2018B-Q-102:22</th>\n      <td>[0.0, 0.0, 0.0, 0.0, 0.0, 0.0, 0.0, 0.0, 0.0, ...</td>\n    </tr>\n    <tr>\n      <th>GS-2018B-Q-102:17</th>\n      <td>[0.0, 0.0, 0.0, 0.0, 0.0, 0.0, 0.0, 0.0, 0.0, ...</td>\n    </tr>\n    <tr>\n      <th>GS-2018B-Q-102:7</th>\n      <td>[0.0, 0.0, 0.0, 0.0, 0.0, 0.0, 0.0, 0.0, 0.0, ...</td>\n    </tr>\n    <tr>\n      <th>GS-2018B-Q-102:13</th>\n      <td>[0.0, 0.0, 0.0, 0.0, 0.0, 0.0, 0.0, 0.0, 0.0, ...</td>\n    </tr>\n    <tr>\n      <th>GS-2018B-Q-102:15</th>\n      <td>[0.0, 0.0, 0.0, 0.0, 0.0, 0.0, 0.0, 0.0, 0.0, ...</td>\n    </tr>\n    <tr>\n      <th>GS-2018B-Q-102:24</th>\n      <td>[0.0, 0.0, 0.0, 0.0, 0.0, 0.0, 0.0, 0.0, 0.0, ...</td>\n    </tr>\n    <tr>\n      <th>GS-2018B-Q-102:6</th>\n      <td>[0.0, 0.0, 0.0, 0.0, 0.0, 0.0, 0.0, 0.0, 0.0, ...</td>\n    </tr>\n    <tr>\n      <th>GS-2018B-Q-102:21</th>\n      <td>[0.0, 0.0, 0.0, 0.0, 0.0, 0.0, 0.0, 0.0, 0.0, ...</td>\n    </tr>\n    <tr>\n      <th>GS-2018B-Q-102:8</th>\n      <td>[0.0, 0.0, 0.0, 0.0, 0.0, 0.0, 0.0, 0.0, 0.0, ...</td>\n    </tr>\n    <tr>\n      <th>GS-2018B-Q-104:4</th>\n      <td>[0.0, 0.0, 0.0, 0.0, 0.0, 0.0, 0.0, 0.0, 0.0, ...</td>\n    </tr>\n    <tr>\n      <th>GS-2018B-Q-104-7</th>\n      <td>[0.9287191338757078, 0.9326655983689428, 0.936...</td>\n    </tr>\n    <tr>\n      <th>GS-2018B-Q-105-9</th>\n      <td>[0.5474878728896847, 0.5505039445496879, 0.553...</td>\n    </tr>\n    <tr>\n      <th>GS-2018B-Q-105-92</th>\n      <td>[1.3303972636682944, 1.3311714818075744, 1.331...</td>\n    </tr>\n    <tr>\n      <th>GS-2018B-Q-105-90</th>\n      <td>[0.764114739155147, 0.7683241927775488, 0.7725...</td>\n    </tr>\n    <tr>\n      <th>GS-2018B-Q-105-87</th>\n      <td>[0.6004276810939447, 0.6029791161163978, 0.605...</td>\n    </tr>\n    <tr>\n      <th>GS-2018B-Q-105-14</th>\n      <td>[0.0, 0.0, 0.0, 0.0, 0.0, 0.0, 0.0, 0.0, 0.0, ...</td>\n    </tr>\n    <tr>\n      <th>GS-2018B-Q-108-8</th>\n      <td>[0.0, 0.0, 0.0, 0.0, 0.0, 0.0, 0.0, 0.0, 0.0, ...</td>\n    </tr>\n    <tr>\n      <th>GS-2018B-Q-206-16</th>\n      <td>[0.20331843202227534, 0.2044387347275574, 0.20...</td>\n    </tr>\n    <tr>\n      <th>GS-2018B-Q-223:15</th>\n      <td>[4.273664195417177, 4.275380368923559, 4.27703...</td>\n    </tr>\n    <tr>\n      <th>GS-2018B-Q-223:16</th>\n      <td>[2.7309881725487513, 2.7401174610715677, 2.749...</td>\n    </tr>\n    <tr>\n      <th>GS-2018B-Q-223:18</th>\n      <td>[0.0, 0.0, 0.0, 0.0, 0.0, 0.0, 0.0, 0.0, 0.0, ...</td>\n    </tr>\n    <tr>\n      <th>GS-2018B-Q-223:13</th>\n      <td>[0.0, 0.0, 0.0, 0.0, 0.0, 0.0, 0.0, 0.0, 0.0, ...</td>\n    </tr>\n    <tr>\n      <th>GS-2018B-Q-223:17</th>\n      <td>[0.0, 0.0, 0.0, 0.0, 0.0, 0.0, 0.0, 0.0, 0.0, ...</td>\n    </tr>\n    <tr>\n      <th>GS-2018B-Q-223:14</th>\n      <td>[0.0, 0.0, 0.0, 0.0, 0.0, 0.0, 0.0, 0.0, 0.0, ...</td>\n    </tr>\n    <tr>\n      <th>GS-2018B-Q-313-7</th>\n      <td>[0.10448154521070677, 0.10615090652760924, 0.1...</td>\n    </tr>\n    <tr>\n      <th>GS-2018B-Q-313:3</th>\n      <td>[0.0, 0.0, 0.0, 0.0, 0.0, 0.0, 0.0, 0.0, 0.0, ...</td>\n    </tr>\n  </tbody>\n</table>\n</div>"
     },
     "metadata": {},
     "output_type": "display_data"
    }
   ],
   "source": [
    "# Load pickle\n",
    "file = open('selection_night0.pickle', 'rb') # selection from night 0\n",
    "selection = pickle.load(file)\n",
    "file.close()\n",
    "\n",
    "# Regular information\n",
    "print(f'night indices: {selection.night_indices}')\n",
    "print(f'time slot length (in minutes): {selection.time_slot_length}')\n",
    "\n",
    "# Show groups that can be schedule that night with the scores by time slot\n",
    "groups_with_score = {u_group.id: group_info.scores for u_group, (group,group_info) in selection.schedulable_groups.items()}\n",
    "display(pd.DataFrame(groups_with_score).T.rename(columns={0:\"scores\"}))"
   ],
   "metadata": {
    "collapsed": false,
    "ExecuteTime": {
     "end_time": "2023-08-25T20:17:05.955779Z",
     "start_time": "2023-08-25T20:17:05.451517Z"
    }
   },
   "id": "3876e45a1e7ea81c"
  },
  {
   "cell_type": "markdown",
   "source": [
    "The `schedulable_groups` maps the Unique Group id with two pair of objects (that make up `GroupData`), one is `Group`, that contains OCS information of the groups (Check lucupy doc for more info) and `GroupInfo` which store different calculations that happen both in Selector and Collector: \n",
    "\n",
    "```\n",
    "class GroupInfo:\n",
    "    \"\"\"\n",
    "    Information regarding Groups that can only be calculated in the Selector.\n",
    "\n",
    "    Note that the lists here are indexed by night indices as passed to the selection method, or\n",
    "      equivalently, as defined in the Ranker.\n",
    "\n",
    "    This comprises:\n",
    "    1. The most restrictive Conditions required for the group as per all its subgroups.\n",
    "    2. A flag to indicate if the group can be split.\n",
    "    3. The standards time associated with the group, in hours.\n",
    "    4. The nights in which the group can be scheduled based on filtering computed from resource and telescope\n",
    "       configuration data.\n",
    "    5. Scoring based on how close the conditions for the group are to the actual conditions.\n",
    "    6. Scoring based on how the wind affects the group.\n",
    "    7. A list of indices of the time slots across the nights as to when the group can be scheduled.\n",
    "    8. The score assigned to the group.\n",
    "\n",
    "    A group can be split if and only if it contains more than one observation.\n",
    "    \"\"\"\n",
    "    minimum_conditions: Conditions\n",
    "    is_splittable: bool\n",
    "    standards: float\n",
    "    night_filtering: Dict[NightIndex, bool]\n",
    "    conditions_score: Dict[NightIndex, npt.NDArray[float]]\n",
    "    wind_score: Dict[NightIndex, npt.NDArray[float]]\n",
    "    schedulable_slot_indices: Dict[NightIndex, npt.NDArray[int]]\n",
    "    scores: Scores\n",
    "\n",
    "class GroupData:\n",
    "    \"\"\"\n",
    "    Associates Groups with their GroupInfo.\n",
    "    group is a deep copy.\n",
    "    \"\"\"\n",
    "    # Deep-copied.\n",
    "    group: Group\n",
    "\n",
    "    group_info: GroupInfo\n",
    "```\n"
   ],
   "metadata": {
    "collapsed": false
   },
   "id": "98d4ebf71508420d"
  },
  {
   "cell_type": "code",
   "execution_count": 4,
   "outputs": [],
   "source": [],
   "metadata": {
    "collapsed": false,
    "ExecuteTime": {
     "end_time": "2023-08-25T20:17:05.955923Z",
     "start_time": "2023-08-25T20:17:05.950729Z"
    }
   },
   "id": "c6129a6df0451672"
  }
 ],
 "metadata": {
  "kernelspec": {
   "display_name": "Python 3",
   "language": "python",
   "name": "python3"
  },
  "language_info": {
   "codemirror_mode": {
    "name": "ipython",
    "version": 2
   },
   "file_extension": ".py",
   "mimetype": "text/x-python",
   "name": "python",
   "nbconvert_exporter": "python",
   "pygments_lexer": "ipython2",
   "version": "2.7.6"
  }
 },
 "nbformat": 4,
 "nbformat_minor": 5
}
