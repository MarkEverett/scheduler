{
 "cells": [
  {
   "cell_type": "markdown",
   "source": [
    "# How to handle Pickle output files from the Schedule Test Validator"
   ],
   "metadata": {
    "collapsed": false
   },
   "id": "53c88d35a0996c20"
  },
  {
   "cell_type": "code",
   "execution_count": 22,
   "outputs": [],
   "source": [
    "import pandas\n",
    "import pickle\n",
    "import mercury as mr\n",
    "import pandas as pd\n",
    "from lucupy.minimodel import Group, NightIndices, Program, ProgramID, Site, UniqueGroupID\n",
    "from scheduler.core.calculations import Selection"
   ],
   "metadata": {
    "collapsed": false,
    "ExecuteTime": {
     "end_time": "2023-08-08T01:23:37.853310Z",
     "start_time": "2023-08-08T01:23:37.727412Z"
    }
   },
   "id": "53710a9745db47ba"
  },
  {
   "cell_type": "code",
   "execution_count": 23,
   "outputs": [
    {
     "data": {
      "text/plain": "mercury.App",
      "text/html": "<h3>Mercury Application</h3><small>This output won't appear in the web app.</small>",
      "application/mercury+json": "{\n    \"widget\": \"App\",\n    \"title\": \"Pickle Output tutorial\",\n    \"description\": \"Learn how to handle the outputs from the Scheduler Test\",\n    \"show_code\": true,\n    \"show_prompt\": true,\n    \"output\": \"app\",\n    \"schedule\": \"\",\n    \"notify\": \"{}\",\n    \"continuous_update\": false,\n    \"static_notebook\": true,\n    \"show_sidebar\": false,\n    \"full_screen\": true,\n    \"allow_download\": true,\n    \"model_id\": \"mercury-app\",\n    \"code_uid\": \"App.0.40.24.2-rand05c3bd21\"\n}"
     },
     "metadata": {},
     "output_type": "display_data"
    }
   ],
   "source": [
    "# set Application parameters\n",
    "app = mr.App(title=\"Pickle Output tutorial\",\n",
    "        description=\"Learn how to handle the outputs from the Scheduler Test\",\n",
    "        show_code=True,\n",
    "        show_prompt=True,\n",
    "        continuous_update=False,\n",
    "        static_notebook=True,\n",
    "        show_sidebar=False,\n",
    "        full_screen=True,\n",
    "        allow_download=True)"
   ],
   "metadata": {
    "collapsed": false,
    "ExecuteTime": {
     "end_time": "2023-08-08T01:23:37.985801Z",
     "start_time": "2023-08-08T01:23:37.850718Z"
    }
   },
   "id": "43ca56bb781023f7"
  },
  {
   "cell_type": "markdown",
   "source": [
    "## Pickle file for plans"
   ],
   "metadata": {
    "collapsed": false
   },
   "id": "e7d4b1563c858fb2"
  },
  {
   "cell_type": "code",
   "execution_count": 24,
   "outputs": [
    {
     "name": "stdout",
     "output_type": "stream",
     "text": [
      "Night 1\n",
      "Site.GS\n"
     ]
    },
    {
     "data": {
      "text/plain": "                             Start        Observation  Atom start  Atom end  \\\n0 2018-09-30 20:47:00.000005-03:00  GS-2018B-Q-115-11           0        11   \n1 2018-09-30 23:31:00.000005-03:00  GS-2018B-Q-206-10           0         7   \n2 2018-10-01 01:20:00.000005-03:00   GS-2018B-Q-115-7           0         5   \n3 2018-10-01 05:38:00.000005-03:00  GS-2018B-Q-115-10           0         1   \n4 2018-10-01 05:48:00.000005-03:00  GS-2018B-Q-223-31           0        55   \n\n   Length        Score  Instrument  \n0     169  2152.974606      GMOS-S  \n1     117  2297.100818      GMOS-S  \n2     258  3012.094366      GMOS-S  \n3       8    54.510731      GMOS-S  \n4      43   834.144459  Flamingos2  ",
      "text/html": "<div>\n<style scoped>\n    .dataframe tbody tr th:only-of-type {\n        vertical-align: middle;\n    }\n\n    .dataframe tbody tr th {\n        vertical-align: top;\n    }\n\n    .dataframe thead th {\n        text-align: right;\n    }\n</style>\n<table border=\"1\" class=\"dataframe\">\n  <thead>\n    <tr style=\"text-align: right;\">\n      <th></th>\n      <th>Start</th>\n      <th>Observation</th>\n      <th>Atom start</th>\n      <th>Atom end</th>\n      <th>Length</th>\n      <th>Score</th>\n      <th>Instrument</th>\n    </tr>\n  </thead>\n  <tbody>\n    <tr>\n      <th>0</th>\n      <td>2018-09-30 20:47:00.000005-03:00</td>\n      <td>GS-2018B-Q-115-11</td>\n      <td>0</td>\n      <td>11</td>\n      <td>169</td>\n      <td>2152.974606</td>\n      <td>GMOS-S</td>\n    </tr>\n    <tr>\n      <th>1</th>\n      <td>2018-09-30 23:31:00.000005-03:00</td>\n      <td>GS-2018B-Q-206-10</td>\n      <td>0</td>\n      <td>7</td>\n      <td>117</td>\n      <td>2297.100818</td>\n      <td>GMOS-S</td>\n    </tr>\n    <tr>\n      <th>2</th>\n      <td>2018-10-01 01:20:00.000005-03:00</td>\n      <td>GS-2018B-Q-115-7</td>\n      <td>0</td>\n      <td>5</td>\n      <td>258</td>\n      <td>3012.094366</td>\n      <td>GMOS-S</td>\n    </tr>\n    <tr>\n      <th>3</th>\n      <td>2018-10-01 05:38:00.000005-03:00</td>\n      <td>GS-2018B-Q-115-10</td>\n      <td>0</td>\n      <td>1</td>\n      <td>8</td>\n      <td>54.510731</td>\n      <td>GMOS-S</td>\n    </tr>\n    <tr>\n      <th>4</th>\n      <td>2018-10-01 05:48:00.000005-03:00</td>\n      <td>GS-2018B-Q-223-31</td>\n      <td>0</td>\n      <td>55</td>\n      <td>43</td>\n      <td>834.144459</td>\n      <td>Flamingos2</td>\n    </tr>\n  </tbody>\n</table>\n</div>"
     },
     "metadata": {},
     "output_type": "display_data"
    },
    {
     "name": "stdout",
     "output_type": "stream",
     "text": [
      "Site.GN\n"
     ]
    },
    {
     "data": {
      "text/plain": "                              Start          Observation  Atom start  \\\n0  2018-09-30 20:20:00.000017-09:00    GN-2018B-Q-127-10           0   \n1  2018-09-30 23:54:00.000017-09:00    GN-2018B-Q-104-10           0   \n2  2018-10-01 00:52:00.000017-09:00     GN-2018B-Q-903-8           0   \n3  2018-10-01 01:15:00.000017-09:00     GN-2018B-Q-230-7           0   \n4  2018-10-01 01:41:00.000017-09:00    GN-2018B-Q-223-30           0   \n5  2018-10-01 02:04:00.000017-09:00    GN-2018B-Q-223-26           0   \n6  2018-10-01 02:26:00.000017-09:00  GN-2018B-Q-101-1393           0   \n7  2018-10-01 03:28:00.000017-09:00  GN-2018B-Q-101-1451           0   \n8  2018-10-01 03:46:00.000017-09:00  GN-2018B-Q-101-1413           0   \n9  2018-10-01 04:04:00.000017-09:00  GN-2018B-Q-101-1330           0   \n10 2018-10-01 05:06:00.000017-09:00  GN-2018B-Q-101-1337           0   \n11 2018-10-01 06:08:00.000017-09:00  GN-2018B-Q-101-1419           0   \n\n    Atom end  Length        Score Instrument  \n0         13     232  4572.674857     GMOS-N  \n1          6      59   243.526152     GMOS-N  \n2          3      23    17.871510     GMOS-N  \n3          3      22     6.186366     GMOS-N  \n4          5      23     7.125754     GMOS-N  \n5          5      22     7.309862     GMOS-N  \n6          1      62   141.293704      GNIRS  \n7          3      19    48.095176      GNIRS  \n8          3      18    58.060627      GNIRS  \n9          1      62   202.965966      GNIRS  \n10         1      62   234.656104      GNIRS  \n11         3      19    67.754847      GNIRS  ",
      "text/html": "<div>\n<style scoped>\n    .dataframe tbody tr th:only-of-type {\n        vertical-align: middle;\n    }\n\n    .dataframe tbody tr th {\n        vertical-align: top;\n    }\n\n    .dataframe thead th {\n        text-align: right;\n    }\n</style>\n<table border=\"1\" class=\"dataframe\">\n  <thead>\n    <tr style=\"text-align: right;\">\n      <th></th>\n      <th>Start</th>\n      <th>Observation</th>\n      <th>Atom start</th>\n      <th>Atom end</th>\n      <th>Length</th>\n      <th>Score</th>\n      <th>Instrument</th>\n    </tr>\n  </thead>\n  <tbody>\n    <tr>\n      <th>0</th>\n      <td>2018-09-30 20:20:00.000017-09:00</td>\n      <td>GN-2018B-Q-127-10</td>\n      <td>0</td>\n      <td>13</td>\n      <td>232</td>\n      <td>4572.674857</td>\n      <td>GMOS-N</td>\n    </tr>\n    <tr>\n      <th>1</th>\n      <td>2018-09-30 23:54:00.000017-09:00</td>\n      <td>GN-2018B-Q-104-10</td>\n      <td>0</td>\n      <td>6</td>\n      <td>59</td>\n      <td>243.526152</td>\n      <td>GMOS-N</td>\n    </tr>\n    <tr>\n      <th>2</th>\n      <td>2018-10-01 00:52:00.000017-09:00</td>\n      <td>GN-2018B-Q-903-8</td>\n      <td>0</td>\n      <td>3</td>\n      <td>23</td>\n      <td>17.871510</td>\n      <td>GMOS-N</td>\n    </tr>\n    <tr>\n      <th>3</th>\n      <td>2018-10-01 01:15:00.000017-09:00</td>\n      <td>GN-2018B-Q-230-7</td>\n      <td>0</td>\n      <td>3</td>\n      <td>22</td>\n      <td>6.186366</td>\n      <td>GMOS-N</td>\n    </tr>\n    <tr>\n      <th>4</th>\n      <td>2018-10-01 01:41:00.000017-09:00</td>\n      <td>GN-2018B-Q-223-30</td>\n      <td>0</td>\n      <td>5</td>\n      <td>23</td>\n      <td>7.125754</td>\n      <td>GMOS-N</td>\n    </tr>\n    <tr>\n      <th>5</th>\n      <td>2018-10-01 02:04:00.000017-09:00</td>\n      <td>GN-2018B-Q-223-26</td>\n      <td>0</td>\n      <td>5</td>\n      <td>22</td>\n      <td>7.309862</td>\n      <td>GMOS-N</td>\n    </tr>\n    <tr>\n      <th>6</th>\n      <td>2018-10-01 02:26:00.000017-09:00</td>\n      <td>GN-2018B-Q-101-1393</td>\n      <td>0</td>\n      <td>1</td>\n      <td>62</td>\n      <td>141.293704</td>\n      <td>GNIRS</td>\n    </tr>\n    <tr>\n      <th>7</th>\n      <td>2018-10-01 03:28:00.000017-09:00</td>\n      <td>GN-2018B-Q-101-1451</td>\n      <td>0</td>\n      <td>3</td>\n      <td>19</td>\n      <td>48.095176</td>\n      <td>GNIRS</td>\n    </tr>\n    <tr>\n      <th>8</th>\n      <td>2018-10-01 03:46:00.000017-09:00</td>\n      <td>GN-2018B-Q-101-1413</td>\n      <td>0</td>\n      <td>3</td>\n      <td>18</td>\n      <td>58.060627</td>\n      <td>GNIRS</td>\n    </tr>\n    <tr>\n      <th>9</th>\n      <td>2018-10-01 04:04:00.000017-09:00</td>\n      <td>GN-2018B-Q-101-1330</td>\n      <td>0</td>\n      <td>1</td>\n      <td>62</td>\n      <td>202.965966</td>\n      <td>GNIRS</td>\n    </tr>\n    <tr>\n      <th>10</th>\n      <td>2018-10-01 05:06:00.000017-09:00</td>\n      <td>GN-2018B-Q-101-1337</td>\n      <td>0</td>\n      <td>1</td>\n      <td>62</td>\n      <td>234.656104</td>\n      <td>GNIRS</td>\n    </tr>\n    <tr>\n      <th>11</th>\n      <td>2018-10-01 06:08:00.000017-09:00</td>\n      <td>GN-2018B-Q-101-1419</td>\n      <td>0</td>\n      <td>3</td>\n      <td>19</td>\n      <td>67.754847</td>\n      <td>GNIRS</td>\n    </tr>\n  </tbody>\n</table>\n</div>"
     },
     "metadata": {},
     "output_type": "display_data"
    },
    {
     "name": "stdout",
     "output_type": "stream",
     "text": [
      "Night 2\n",
      "Site.GS\n"
     ]
    },
    {
     "data": {
      "text/plain": "                             Start        Observation  Atom start  Atom end  \\\n0 2018-10-01 20:37:00.000002-03:00  GS-2018B-Q-223-30           0        36   \n1 2018-10-01 21:07:00.000002-03:00  GS-2018B-Q-115-11           0         8   \n2 2018-10-01 23:27:00.000002-03:00  GS-2018B-Q-206-10           0        17   \n3 2018-10-02 03:32:00.000002-03:00  GS-2018B-Q-115-11           0         8   \n4 2018-10-02 04:42:00.000002-03:00  GS-2018B-Q-105-81           0         3   \n5 2018-10-02 05:45:00.000002-03:00  GS-2018B-Q-223-31           0        57   \n\n   Length        Score  Instrument  \n0      31   205.442043  Flamingos2  \n1      70  1225.818138      GMOS-S  \n2     249  7541.071846      GMOS-S  \n3      70  1445.282822      GMOS-S  \n4      66  1118.250885      GMOS-S  \n5      44  1273.341931  Flamingos2  ",
      "text/html": "<div>\n<style scoped>\n    .dataframe tbody tr th:only-of-type {\n        vertical-align: middle;\n    }\n\n    .dataframe tbody tr th {\n        vertical-align: top;\n    }\n\n    .dataframe thead th {\n        text-align: right;\n    }\n</style>\n<table border=\"1\" class=\"dataframe\">\n  <thead>\n    <tr style=\"text-align: right;\">\n      <th></th>\n      <th>Start</th>\n      <th>Observation</th>\n      <th>Atom start</th>\n      <th>Atom end</th>\n      <th>Length</th>\n      <th>Score</th>\n      <th>Instrument</th>\n    </tr>\n  </thead>\n  <tbody>\n    <tr>\n      <th>0</th>\n      <td>2018-10-01 20:37:00.000002-03:00</td>\n      <td>GS-2018B-Q-223-30</td>\n      <td>0</td>\n      <td>36</td>\n      <td>31</td>\n      <td>205.442043</td>\n      <td>Flamingos2</td>\n    </tr>\n    <tr>\n      <th>1</th>\n      <td>2018-10-01 21:07:00.000002-03:00</td>\n      <td>GS-2018B-Q-115-11</td>\n      <td>0</td>\n      <td>8</td>\n      <td>70</td>\n      <td>1225.818138</td>\n      <td>GMOS-S</td>\n    </tr>\n    <tr>\n      <th>2</th>\n      <td>2018-10-01 23:27:00.000002-03:00</td>\n      <td>GS-2018B-Q-206-10</td>\n      <td>0</td>\n      <td>17</td>\n      <td>249</td>\n      <td>7541.071846</td>\n      <td>GMOS-S</td>\n    </tr>\n    <tr>\n      <th>3</th>\n      <td>2018-10-02 03:32:00.000002-03:00</td>\n      <td>GS-2018B-Q-115-11</td>\n      <td>0</td>\n      <td>8</td>\n      <td>70</td>\n      <td>1445.282822</td>\n      <td>GMOS-S</td>\n    </tr>\n    <tr>\n      <th>4</th>\n      <td>2018-10-02 04:42:00.000002-03:00</td>\n      <td>GS-2018B-Q-105-81</td>\n      <td>0</td>\n      <td>3</td>\n      <td>66</td>\n      <td>1118.250885</td>\n      <td>GMOS-S</td>\n    </tr>\n    <tr>\n      <th>5</th>\n      <td>2018-10-02 05:45:00.000002-03:00</td>\n      <td>GS-2018B-Q-223-31</td>\n      <td>0</td>\n      <td>57</td>\n      <td>44</td>\n      <td>1273.341931</td>\n      <td>Flamingos2</td>\n    </tr>\n  </tbody>\n</table>\n</div>"
     },
     "metadata": {},
     "output_type": "display_data"
    },
    {
     "name": "stdout",
     "output_type": "stream",
     "text": [
      "Site.GN\n"
     ]
    },
    {
     "data": {
      "text/plain": "                              Start          Observation  Atom start  \\\n0  2018-10-01 19:58:59.999980-09:00     GN-2018B-Q-108-5           0   \n1  2018-10-01 20:18:59.999980-09:00    GN-2018B-Q-127-15           0   \n2  2018-10-02 00:03:59.999980-09:00    GN-2018B-Q-903-12           0   \n3  2018-10-02 00:49:59.999980-09:00    GN-2018B-Q-127-15           0   \n4  2018-10-02 01:33:59.999980-09:00  GN-2018B-Q-101-1417           0   \n5  2018-10-02 01:51:59.999980-09:00  GN-2018B-Q-101-1441           0   \n6  2018-10-02 02:09:59.999980-09:00  GN-2018B-Q-101-1379           0   \n7  2018-10-02 03:11:59.999980-09:00  GN-2018B-Q-101-1445           0   \n8  2018-10-02 03:29:59.999980-09:00  GN-2018B-Q-101-1386           0   \n9  2018-10-02 04:31:59.999980-09:00  GN-2018B-Q-101-1316           0   \n10 2018-10-02 05:33:59.999980-09:00  GN-2018B-Q-101-1407           0   \n11 2018-10-02 05:51:59.999980-09:00    GN-2018B-Q-133-83           0   \n12 2018-10-02 06:08:59.999980-09:00    GN-2018B-Q-133-18           0   \n\n    Atom end  Length        Score Instrument  \n0          0      20    23.321425     GMOS-N  \n1         12     230  8862.715350     GMOS-N  \n2          2      67  2723.259535     GMOS-N  \n3          1      40  1557.852569     GMOS-N  \n4          3      18    24.420108      GNIRS  \n5          3      18    61.864554      GNIRS  \n6          1      62   238.444382      GNIRS  \n7          3      18    69.043843      GNIRS  \n8          1      62   249.656444      GNIRS  \n9          1      62   246.510640      GNIRS  \n10         3      19    74.649997      GNIRS  \n11         3      17    70.717278      GNIRS  \n12         3      17    79.137110      GNIRS  ",
      "text/html": "<div>\n<style scoped>\n    .dataframe tbody tr th:only-of-type {\n        vertical-align: middle;\n    }\n\n    .dataframe tbody tr th {\n        vertical-align: top;\n    }\n\n    .dataframe thead th {\n        text-align: right;\n    }\n</style>\n<table border=\"1\" class=\"dataframe\">\n  <thead>\n    <tr style=\"text-align: right;\">\n      <th></th>\n      <th>Start</th>\n      <th>Observation</th>\n      <th>Atom start</th>\n      <th>Atom end</th>\n      <th>Length</th>\n      <th>Score</th>\n      <th>Instrument</th>\n    </tr>\n  </thead>\n  <tbody>\n    <tr>\n      <th>0</th>\n      <td>2018-10-01 19:58:59.999980-09:00</td>\n      <td>GN-2018B-Q-108-5</td>\n      <td>0</td>\n      <td>0</td>\n      <td>20</td>\n      <td>23.321425</td>\n      <td>GMOS-N</td>\n    </tr>\n    <tr>\n      <th>1</th>\n      <td>2018-10-01 20:18:59.999980-09:00</td>\n      <td>GN-2018B-Q-127-15</td>\n      <td>0</td>\n      <td>12</td>\n      <td>230</td>\n      <td>8862.715350</td>\n      <td>GMOS-N</td>\n    </tr>\n    <tr>\n      <th>2</th>\n      <td>2018-10-02 00:03:59.999980-09:00</td>\n      <td>GN-2018B-Q-903-12</td>\n      <td>0</td>\n      <td>2</td>\n      <td>67</td>\n      <td>2723.259535</td>\n      <td>GMOS-N</td>\n    </tr>\n    <tr>\n      <th>3</th>\n      <td>2018-10-02 00:49:59.999980-09:00</td>\n      <td>GN-2018B-Q-127-15</td>\n      <td>0</td>\n      <td>1</td>\n      <td>40</td>\n      <td>1557.852569</td>\n      <td>GMOS-N</td>\n    </tr>\n    <tr>\n      <th>4</th>\n      <td>2018-10-02 01:33:59.999980-09:00</td>\n      <td>GN-2018B-Q-101-1417</td>\n      <td>0</td>\n      <td>3</td>\n      <td>18</td>\n      <td>24.420108</td>\n      <td>GNIRS</td>\n    </tr>\n    <tr>\n      <th>5</th>\n      <td>2018-10-02 01:51:59.999980-09:00</td>\n      <td>GN-2018B-Q-101-1441</td>\n      <td>0</td>\n      <td>3</td>\n      <td>18</td>\n      <td>61.864554</td>\n      <td>GNIRS</td>\n    </tr>\n    <tr>\n      <th>6</th>\n      <td>2018-10-02 02:09:59.999980-09:00</td>\n      <td>GN-2018B-Q-101-1379</td>\n      <td>0</td>\n      <td>1</td>\n      <td>62</td>\n      <td>238.444382</td>\n      <td>GNIRS</td>\n    </tr>\n    <tr>\n      <th>7</th>\n      <td>2018-10-02 03:11:59.999980-09:00</td>\n      <td>GN-2018B-Q-101-1445</td>\n      <td>0</td>\n      <td>3</td>\n      <td>18</td>\n      <td>69.043843</td>\n      <td>GNIRS</td>\n    </tr>\n    <tr>\n      <th>8</th>\n      <td>2018-10-02 03:29:59.999980-09:00</td>\n      <td>GN-2018B-Q-101-1386</td>\n      <td>0</td>\n      <td>1</td>\n      <td>62</td>\n      <td>249.656444</td>\n      <td>GNIRS</td>\n    </tr>\n    <tr>\n      <th>9</th>\n      <td>2018-10-02 04:31:59.999980-09:00</td>\n      <td>GN-2018B-Q-101-1316</td>\n      <td>0</td>\n      <td>1</td>\n      <td>62</td>\n      <td>246.510640</td>\n      <td>GNIRS</td>\n    </tr>\n    <tr>\n      <th>10</th>\n      <td>2018-10-02 05:33:59.999980-09:00</td>\n      <td>GN-2018B-Q-101-1407</td>\n      <td>0</td>\n      <td>3</td>\n      <td>19</td>\n      <td>74.649997</td>\n      <td>GNIRS</td>\n    </tr>\n    <tr>\n      <th>11</th>\n      <td>2018-10-02 05:51:59.999980-09:00</td>\n      <td>GN-2018B-Q-133-83</td>\n      <td>0</td>\n      <td>3</td>\n      <td>17</td>\n      <td>70.717278</td>\n      <td>GNIRS</td>\n    </tr>\n    <tr>\n      <th>12</th>\n      <td>2018-10-02 06:08:59.999980-09:00</td>\n      <td>GN-2018B-Q-133-18</td>\n      <td>0</td>\n      <td>3</td>\n      <td>17</td>\n      <td>79.137110</td>\n      <td>GNIRS</td>\n    </tr>\n  </tbody>\n</table>\n</div>"
     },
     "metadata": {},
     "output_type": "display_data"
    },
    {
     "name": "stdout",
     "output_type": "stream",
     "text": [
      "Night 3\n",
      "Site.GS\n"
     ]
    },
    {
     "data": {
      "text/plain": "                             Start        Observation  Atom start  Atom end  \\\n0 2018-10-02 20:43:59.999998-03:00  GS-2018B-Q-105-92           0         1   \n1 2018-10-02 21:05:59.999998-03:00  GS-2018B-Q-115-11           0         8   \n2 2018-10-03 05:16:59.999998-03:00   GS-2018B-Q-120-8           0         3   \n3 2018-10-03 05:40:59.999998-03:00  GS-2018B-Q-223-31           0        62   \n\n   Length        Score  Instrument  \n0      22    90.654853      GMOS-S  \n1      70  2497.122630      GMOS-S  \n2      24   123.964311      GMOS-S  \n3      47  2705.542535  Flamingos2  ",
      "text/html": "<div>\n<style scoped>\n    .dataframe tbody tr th:only-of-type {\n        vertical-align: middle;\n    }\n\n    .dataframe tbody tr th {\n        vertical-align: top;\n    }\n\n    .dataframe thead th {\n        text-align: right;\n    }\n</style>\n<table border=\"1\" class=\"dataframe\">\n  <thead>\n    <tr style=\"text-align: right;\">\n      <th></th>\n      <th>Start</th>\n      <th>Observation</th>\n      <th>Atom start</th>\n      <th>Atom end</th>\n      <th>Length</th>\n      <th>Score</th>\n      <th>Instrument</th>\n    </tr>\n  </thead>\n  <tbody>\n    <tr>\n      <th>0</th>\n      <td>2018-10-02 20:43:59.999998-03:00</td>\n      <td>GS-2018B-Q-105-92</td>\n      <td>0</td>\n      <td>1</td>\n      <td>22</td>\n      <td>90.654853</td>\n      <td>GMOS-S</td>\n    </tr>\n    <tr>\n      <th>1</th>\n      <td>2018-10-02 21:05:59.999998-03:00</td>\n      <td>GS-2018B-Q-115-11</td>\n      <td>0</td>\n      <td>8</td>\n      <td>70</td>\n      <td>2497.122630</td>\n      <td>GMOS-S</td>\n    </tr>\n    <tr>\n      <th>2</th>\n      <td>2018-10-03 05:16:59.999998-03:00</td>\n      <td>GS-2018B-Q-120-8</td>\n      <td>0</td>\n      <td>3</td>\n      <td>24</td>\n      <td>123.964311</td>\n      <td>GMOS-S</td>\n    </tr>\n    <tr>\n      <th>3</th>\n      <td>2018-10-03 05:40:59.999998-03:00</td>\n      <td>GS-2018B-Q-223-31</td>\n      <td>0</td>\n      <td>62</td>\n      <td>47</td>\n      <td>2705.542535</td>\n      <td>Flamingos2</td>\n    </tr>\n  </tbody>\n</table>\n</div>"
     },
     "metadata": {},
     "output_type": "display_data"
    },
    {
     "name": "stdout",
     "output_type": "stream",
     "text": [
      "Site.GN\n"
     ]
    },
    {
     "data": {
      "text/plain": "                             Start        Observation  Atom start  Atom end  \\\n0 2018-10-02 19:59:59.999984-09:00   GN-2018B-Q-103-7           0         0   \n1 2018-10-02 20:17:59.999984-09:00  GN-2018B-Q-127-10           0         7   \n2 2018-10-03 01:00:59.999984-09:00  GN-2018B-Q-903-12           0         1   \n3 2018-10-03 06:08:59.999984-09:00  GN-2018B-Q-133-76           0         3   \n\n   Length        Score Instrument  \n0      18    38.528634     GMOS-N  \n1     147  8571.241919     GMOS-N  \n2      67  5570.821453     GMOS-N  \n3      17   159.681587      GNIRS  ",
      "text/html": "<div>\n<style scoped>\n    .dataframe tbody tr th:only-of-type {\n        vertical-align: middle;\n    }\n\n    .dataframe tbody tr th {\n        vertical-align: top;\n    }\n\n    .dataframe thead th {\n        text-align: right;\n    }\n</style>\n<table border=\"1\" class=\"dataframe\">\n  <thead>\n    <tr style=\"text-align: right;\">\n      <th></th>\n      <th>Start</th>\n      <th>Observation</th>\n      <th>Atom start</th>\n      <th>Atom end</th>\n      <th>Length</th>\n      <th>Score</th>\n      <th>Instrument</th>\n    </tr>\n  </thead>\n  <tbody>\n    <tr>\n      <th>0</th>\n      <td>2018-10-02 19:59:59.999984-09:00</td>\n      <td>GN-2018B-Q-103-7</td>\n      <td>0</td>\n      <td>0</td>\n      <td>18</td>\n      <td>38.528634</td>\n      <td>GMOS-N</td>\n    </tr>\n    <tr>\n      <th>1</th>\n      <td>2018-10-02 20:17:59.999984-09:00</td>\n      <td>GN-2018B-Q-127-10</td>\n      <td>0</td>\n      <td>7</td>\n      <td>147</td>\n      <td>8571.241919</td>\n      <td>GMOS-N</td>\n    </tr>\n    <tr>\n      <th>2</th>\n      <td>2018-10-03 01:00:59.999984-09:00</td>\n      <td>GN-2018B-Q-903-12</td>\n      <td>0</td>\n      <td>1</td>\n      <td>67</td>\n      <td>5570.821453</td>\n      <td>GMOS-N</td>\n    </tr>\n    <tr>\n      <th>3</th>\n      <td>2018-10-03 06:08:59.999984-09:00</td>\n      <td>GN-2018B-Q-133-76</td>\n      <td>0</td>\n      <td>3</td>\n      <td>17</td>\n      <td>159.681587</td>\n      <td>GNIRS</td>\n    </tr>\n  </tbody>\n</table>\n</div>"
     },
     "metadata": {},
     "output_type": "display_data"
    }
   ],
   "source": [
    "# Load pickle\n",
    "file = open('plans_2018-10-01 08:00:00_to_2018-10-03 08:00:00.pickle', 'rb')\n",
    "plans = pickle.load(file)\n",
    "file.close()\n",
    "# On top is a list of n-nights\n",
    "for night_idx, night_plan in enumerate(plans):\n",
    "    print(f'Night {night_idx+1}')\n",
    "    # then is a dict for each site\n",
    "    for site, site_plan in night_plan.items():\n",
    "        print(site)\n",
    "        # and the data frame showing the plan\n",
    "        display(site_plan)"
   ],
   "metadata": {
    "collapsed": false,
    "ExecuteTime": {
     "end_time": "2023-08-08T01:23:38.089109Z",
     "start_time": "2023-08-08T01:23:37.975686Z"
    }
   },
   "id": "d9c29dbd8705765f"
  },
  {
   "cell_type": "markdown",
   "source": [
    "## Use Selection pickle to check all selected observations for each night\n",
    "For this we would use the Selection object in our `calculations` module:\n",
    "\n",
    "```\n",
    "class Selection:\n",
    "    \"\"\"\n",
    "    The selection of information passed by the Selector to the Optimizer.\n",
    "    This includes the list of programs that are schedulable and the night event for the nights under consideration.\n",
    "    \"\"\"\n",
    "    program_info: Mapping[ProgramID, ProgramInfo]\n",
    "    schedulable_groups: Mapping[UniqueGroupID, GroupData]\n",
    "    night_events: Mapping[Site, NightEvents]\n",
    "    night_indices: NightIndices\n",
    "    time_slot_length: timedelta\n",
    "    _program_scorer: Callable[[Program, Optional[FrozenSet[Site]], Optional[NightIndices], Optional[Ranker]],\n",
    "                              Optional[ProgramCalculations]]\n",
    "```\n"
   ],
   "metadata": {
    "collapsed": false
   },
   "id": "cf8b501acecd96c5"
  },
  {
   "cell_type": "code",
   "execution_count": 25,
   "outputs": [
    {
     "name": "stdout",
     "output_type": "stream",
     "text": [
      "night indices: [0]\n",
      "time slot length (in minutes): 0:01:00\n"
     ]
    },
    {
     "data": {
      "text/plain": "                                                              scores\nGN-2018B-Q-101:12  [0.0, 0.0, 0.0, 0.0, 0.0, 0.0, 0.0, 0.0, 0.0, ...\nGN-2018B-Q-101:18  [0.0, 0.0, 0.0, 0.0, 0.0, 0.0, 0.0, 0.0, 0.0, ...\nGN-2018B-Q-101:10  [0.0, 0.0, 0.0, 0.0, 0.0, 0.0, 0.0, 0.0, 0.0, ...\nGN-2018B-Q-101:11  [0.0, 0.0, 0.0, 0.0, 0.0, 0.0, 0.0, 0.0, 0.0, ...\nGN-2018B-Q-101:20  [0.0, 0.0, 0.0, 0.0, 0.0, 0.0, 0.0, 0.0, 0.0, ...\n...                                                              ...\nGS-2018B-Q-223:18  [0.0, 0.0, 0.0, 0.0, 0.0, 0.0, 0.0, 0.0, 0.0, ...\nGS-2018B-Q-223:14  [0.0, 0.0, 0.0, 0.0, 0.0, 0.0, 0.0, 0.0, 0.0, ...\nGS-2018B-Q-223:15  [4.273664195417177, 4.275380368923559, 4.27703...\nGS-2018B-Q-313:3   [0.0, 0.0, 0.0, 0.0, 0.0, 0.0, 0.0, 0.0, 0.0, ...\nGS-2018B-Q-313-7   [0.10448154521070677, 0.10615090652760924, 0.1...\n\n[84 rows x 1 columns]",
      "text/html": "<div>\n<style scoped>\n    .dataframe tbody tr th:only-of-type {\n        vertical-align: middle;\n    }\n\n    .dataframe tbody tr th {\n        vertical-align: top;\n    }\n\n    .dataframe thead th {\n        text-align: right;\n    }\n</style>\n<table border=\"1\" class=\"dataframe\">\n  <thead>\n    <tr style=\"text-align: right;\">\n      <th></th>\n      <th>scores</th>\n    </tr>\n  </thead>\n  <tbody>\n    <tr>\n      <th>GN-2018B-Q-101:12</th>\n      <td>[0.0, 0.0, 0.0, 0.0, 0.0, 0.0, 0.0, 0.0, 0.0, ...</td>\n    </tr>\n    <tr>\n      <th>GN-2018B-Q-101:18</th>\n      <td>[0.0, 0.0, 0.0, 0.0, 0.0, 0.0, 0.0, 0.0, 0.0, ...</td>\n    </tr>\n    <tr>\n      <th>GN-2018B-Q-101:10</th>\n      <td>[0.0, 0.0, 0.0, 0.0, 0.0, 0.0, 0.0, 0.0, 0.0, ...</td>\n    </tr>\n    <tr>\n      <th>GN-2018B-Q-101:11</th>\n      <td>[0.0, 0.0, 0.0, 0.0, 0.0, 0.0, 0.0, 0.0, 0.0, ...</td>\n    </tr>\n    <tr>\n      <th>GN-2018B-Q-101:20</th>\n      <td>[0.0, 0.0, 0.0, 0.0, 0.0, 0.0, 0.0, 0.0, 0.0, ...</td>\n    </tr>\n    <tr>\n      <th>...</th>\n      <td>...</td>\n    </tr>\n    <tr>\n      <th>GS-2018B-Q-223:18</th>\n      <td>[0.0, 0.0, 0.0, 0.0, 0.0, 0.0, 0.0, 0.0, 0.0, ...</td>\n    </tr>\n    <tr>\n      <th>GS-2018B-Q-223:14</th>\n      <td>[0.0, 0.0, 0.0, 0.0, 0.0, 0.0, 0.0, 0.0, 0.0, ...</td>\n    </tr>\n    <tr>\n      <th>GS-2018B-Q-223:15</th>\n      <td>[4.273664195417177, 4.275380368923559, 4.27703...</td>\n    </tr>\n    <tr>\n      <th>GS-2018B-Q-313:3</th>\n      <td>[0.0, 0.0, 0.0, 0.0, 0.0, 0.0, 0.0, 0.0, 0.0, ...</td>\n    </tr>\n    <tr>\n      <th>GS-2018B-Q-313-7</th>\n      <td>[0.10448154521070677, 0.10615090652760924, 0.1...</td>\n    </tr>\n  </tbody>\n</table>\n<p>84 rows × 1 columns</p>\n</div>"
     },
     "metadata": {},
     "output_type": "display_data"
    }
   ],
   "source": [
    "# Load pickle\n",
    "file = open('selection_night0.pickle', 'rb') # selection from night 0\n",
    "selection = pickle.load(file)\n",
    "file.close()\n",
    "\n",
    "# Regular information\n",
    "print(f'night indices: {selection.night_indices}')\n",
    "print(f'time slot length (in minutes): {selection.time_slot_length}')\n",
    "\n",
    "# Show groups that can be schedule that night with the scores by time slot\n",
    "groups_with_score = {u_group.id: group_info.scores for u_group, (group,group_info) in selection.schedulable_groups.items()}\n",
    "display(pd.DataFrame(groups_with_score).T.rename(columns={0:\"scores\"}))"
   ],
   "metadata": {
    "collapsed": false,
    "ExecuteTime": {
     "end_time": "2023-08-08T01:23:38.714887Z",
     "start_time": "2023-08-08T01:23:38.025944Z"
    }
   },
   "id": "3876e45a1e7ea81c"
  },
  {
   "cell_type": "markdown",
   "source": [
    "The `schedulable_groups` maps the Unique Group id with two pair of objects (that make up `GroupData`), one is `Group`, that contains OCS information of the groups (Check lucupy doc for more info) and `GroupInfo` which store different calculations that happen both in Selector and Collector: \n",
    "\n",
    "```\n",
    "class GroupInfo:\n",
    "    \"\"\"\n",
    "    Information regarding Groups that can only be calculated in the Selector.\n",
    "\n",
    "    Note that the lists here are indexed by night indices as passed to the selection method, or\n",
    "      equivalently, as defined in the Ranker.\n",
    "\n",
    "    This comprises:\n",
    "    1. The most restrictive Conditions required for the group as per all its subgroups.\n",
    "    2. A flag to indicate if the group can be split.\n",
    "    3. The standards time associated with the group, in hours.\n",
    "    4. The nights in which the group can be scheduled based on filtering computed from resource and telescope\n",
    "       configuration data.\n",
    "    5. Scoring based on how close the conditions for the group are to the actual conditions.\n",
    "    6. Scoring based on how the wind affects the group.\n",
    "    7. A list of indices of the time slots across the nights as to when the group can be scheduled.\n",
    "    8. The score assigned to the group.\n",
    "\n",
    "    A group can be split if and only if it contains more than one observation.\n",
    "    \"\"\"\n",
    "    minimum_conditions: Conditions\n",
    "    is_splittable: bool\n",
    "    standards: float\n",
    "    night_filtering: Dict[NightIndex, bool]\n",
    "    conditions_score: Dict[NightIndex, npt.NDArray[float]]\n",
    "    wind_score: Dict[NightIndex, npt.NDArray[float]]\n",
    "    schedulable_slot_indices: Dict[NightIndex, npt.NDArray[int]]\n",
    "    scores: Scores\n",
    "\n",
    "class GroupData:\n",
    "    \"\"\"\n",
    "    Associates Groups with their GroupInfo.\n",
    "    group is a deep copy.\n",
    "    \"\"\"\n",
    "    # Deep-copied.\n",
    "    group: Group\n",
    "\n",
    "    group_info: GroupInfo\n",
    "```\n"
   ],
   "metadata": {
    "collapsed": false
   },
   "id": "98d4ebf71508420d"
  },
  {
   "cell_type": "code",
   "execution_count": 25,
   "outputs": [],
   "source": [],
   "metadata": {
    "collapsed": false,
    "ExecuteTime": {
     "end_time": "2023-08-08T01:23:38.715043Z",
     "start_time": "2023-08-08T01:23:38.702904Z"
    }
   },
   "id": "c6129a6df0451672"
  }
 ],
 "metadata": {
  "kernelspec": {
   "display_name": "Python 3",
   "language": "python",
   "name": "python3"
  },
  "language_info": {
   "codemirror_mode": {
    "name": "ipython",
    "version": 2
   },
   "file_extension": ".py",
   "mimetype": "text/x-python",
   "name": "python",
   "nbconvert_exporter": "python",
   "pygments_lexer": "ipython2",
   "version": "2.7.6"
  }
 },
 "nbformat": 4,
 "nbformat_minor": 5
}
