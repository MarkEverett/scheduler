{
 "cells": [
  {
   "cell_type": "code",
   "execution_count": 1,
   "metadata": {
    "ExecuteTime": {
     "end_time": "2023-12-28T03:27:19.723344Z",
     "start_time": "2023-12-28T03:27:19.713460Z"
    }
   },
   "outputs": [],
   "source": [
    "from dataclasses import dataclass\n",
    "import os\n",
    "import sys"
   ]
  },
  {
   "cell_type": "code",
   "execution_count": 2,
   "metadata": {
    "ExecuteTime": {
     "end_time": "2023-12-28T03:27:19.801868Z",
     "start_time": "2023-12-28T03:27:19.728856Z"
    }
   },
   "outputs": [
    {
     "ename": "ModuleNotFoundError",
     "evalue": "No module named 'mercury'",
     "output_type": "error",
     "traceback": [
      "\u001B[0;31m---------------------------------------------------------------------------\u001B[0m",
      "\u001B[0;31mModuleNotFoundError\u001B[0m                       Traceback (most recent call last)",
      "\u001B[0;32m<ipython-input-2-1022b08fce20>\u001B[0m in \u001B[0;36m<module>\u001B[0;34m\u001B[0m\n\u001B[0;32m----> 1\u001B[0;31m \u001B[0;32mimport\u001B[0m \u001B[0mmercury\u001B[0m \u001B[0;32mas\u001B[0m \u001B[0mmr\u001B[0m\u001B[0;34m\u001B[0m\u001B[0;34m\u001B[0m\u001B[0m\n\u001B[0m\u001B[1;32m      2\u001B[0m \u001B[0;32mimport\u001B[0m \u001B[0mpandas\u001B[0m \u001B[0;32mas\u001B[0m \u001B[0mpd\u001B[0m\u001B[0;34m\u001B[0m\u001B[0;34m\u001B[0m\u001B[0m\n\u001B[1;32m      3\u001B[0m \u001B[0;32mfrom\u001B[0m \u001B[0mIPython\u001B[0m\u001B[0;34m.\u001B[0m\u001B[0mdisplay\u001B[0m \u001B[0;32mimport\u001B[0m \u001B[0mdisplay\u001B[0m\u001B[0;34m\u001B[0m\u001B[0;34m\u001B[0m\u001B[0m\n\u001B[1;32m      4\u001B[0m \u001B[0;34m\u001B[0m\u001B[0m\n\u001B[1;32m      5\u001B[0m \u001B[0;32mfrom\u001B[0m \u001B[0mastropy\u001B[0m\u001B[0;34m.\u001B[0m\u001B[0mtime\u001B[0m \u001B[0;32mimport\u001B[0m \u001B[0mTime\u001B[0m\u001B[0;34m,\u001B[0m \u001B[0mTimeDelta\u001B[0m\u001B[0;34m\u001B[0m\u001B[0;34m\u001B[0m\u001B[0m\n",
      "\u001B[0;31mModuleNotFoundError\u001B[0m: No module named 'mercury'"
     ]
    }
   ],
   "source": [
    "%%capture\n",
    "import mercury as mr\n",
    "import pandas as pd\n",
    "from IPython.display import display\n",
    "\n",
    "from astropy.time import Time, TimeDelta\n",
    "from lucupy.minimodel.constraints import CloudCover, ImageQuality\n",
    "from lucupy.minimodel.semester import SemesterHalf\n",
    "from lucupy.minimodel.site import Site, ALL_SITES\n",
    "from lucupy.observatory.abstract import ObservatoryProperties\n",
    "from lucupy.observatory.gemini import GeminiProperties\n",
    "\n",
    "from definitions import ROOT_DIR\n",
    "from scheduler.core.builder.blueprint import CollectorBlueprint, OptimizerBlueprint\n",
    "from scheduler.core.builder.validationbuilder import ValidationBuilder\n",
    "from scheduler.core.components.collector import *\n",
    "from scheduler.core.output import (print_collector_info, plans_table, pickle_plans, pickle_selection)\n",
    "from scheduler.core.programprovider.ocs import read_ocs_zipfile, OcsProgramProvider\n",
    "from scheduler.core.statscalculator import StatCalculator"
   ]
  },
  {
   "cell_type": "code",
   "execution_count": 3,
   "metadata": {
    "ExecuteTime": {
     "end_time": "2023-12-28T03:27:19.813487Z",
     "start_time": "2023-12-28T03:27:19.805341Z"
    }
   },
   "outputs": [
    {
     "name": "stdout",
     "output_type": "stream",
     "text": [
      "/Users/sraaphorst/Development/SchedulerRepos/scheduler/demo\n"
     ]
    },
    {
     "ename": "NameError",
     "evalue": "name 'TimeDelta' is not defined",
     "output_type": "error",
     "traceback": [
      "\u001B[0;31m---------------------------------------------------------------------------\u001B[0m",
      "\u001B[0;31mNameError\u001B[0m                                 Traceback (most recent call last)",
      "\u001B[0;32m<ipython-input-3-9476547ee090>\u001B[0m in \u001B[0;36m<module>\u001B[0;34m\u001B[0m\n\u001B[1;32m      5\u001B[0m \u001B[0;34m\u001B[0m\u001B[0m\n\u001B[1;32m      6\u001B[0m \u001B[0;31m# Create a fixed representation of one day.\u001B[0m\u001B[0;34m\u001B[0m\u001B[0;34m\u001B[0m\u001B[0;34m\u001B[0m\u001B[0m\n\u001B[0;32m----> 7\u001B[0;31m \u001B[0mday\u001B[0m \u001B[0;34m=\u001B[0m \u001B[0mTimeDelta\u001B[0m\u001B[0;34m(\u001B[0m\u001B[0;36m1.0\u001B[0m\u001B[0;34m,\u001B[0m \u001B[0mformat\u001B[0m\u001B[0;34m=\u001B[0m\u001B[0;34m'jd'\u001B[0m\u001B[0;34m)\u001B[0m\u001B[0;34m\u001B[0m\u001B[0;34m\u001B[0m\u001B[0m\n\u001B[0m\u001B[1;32m      8\u001B[0m \u001B[0;34m\u001B[0m\u001B[0m\n\u001B[1;32m      9\u001B[0m \u001B[0;31m# Application parameters.\u001B[0m\u001B[0;34m\u001B[0m\u001B[0;34m\u001B[0m\u001B[0;34m\u001B[0m\u001B[0m\n",
      "\u001B[0;31mNameError\u001B[0m: name 'TimeDelta' is not defined"
     ]
    }
   ],
   "source": [
    "# Add the parent directory to the Python search path.\n",
    "print(os.getcwd())\n",
    "cwd = os.getcwd().replace('/demo', '')\n",
    "sys.path.insert(0, cwd)\n",
    "\n",
    "# Create a fixed representation of one day.\n",
    "day = TimeDelta(1.0, format='jd')\n",
    "\n",
    "# Application parameters.\n",
    "app = mr.App(title=\"Scheduler Validation Test\",\n",
    "        description=\"Try the Validation mode for the Scheduler\",\n",
    "        show_code=False,\n",
    "        show_prompt=True,\n",
    "        continuous_update=False,\n",
    "        static_notebook=False,\n",
    "        show_sidebar=True,\n",
    "        full_screen=True,\n",
    "        allow_download=True)"
   ]
  },
  {
   "cell_type": "code",
   "execution_count": null,
   "metadata": {
    "ExecuteTime": {
     "start_time": "2023-12-28T03:27:19.817736Z"
    }
   },
   "outputs": [],
   "source": [
    "out_dir = mr.OutputDir()\n",
    "print(f\"Output directory path: {out_dir.path}\")"
   ]
  },
  {
   "cell_type": "code",
   "execution_count": null,
   "metadata": {
    "ExecuteTime": {
     "end_time": "2023-12-28T03:27:19.822396Z",
     "start_time": "2023-12-28T03:27:19.820700Z"
    }
   },
   "outputs": [],
   "source": [
    "# Set up the UI.\n",
    "start_date = mr.Text(label='Start Date', value='2018-10-01')\n",
    "schedule_nights = mr.Numeric(label='Nights to Schedule', value=1, min=1, max=365, step=1)\n",
    "viscalc_nights = mr.Numeric(label='Nights for Visibility Calculations', value=1, min=1, max=365, step=1)\n",
    "\n",
    "site_choices = [site.name for site in Site]\n",
    "site_selection = mr.MultiSelect(label=\"Sites\",\n",
    "                                choices=site_choices,\n",
    "                                value=site_choices)\n",
    "\n",
    "cc_choices = [cc.name for cc in CloudCover]\n",
    "cc_selection = mr.Select(label='Cloud Cover',\n",
    "                         choices=cc_choices,\n",
    "                         value=CloudCover.CC50.name)\n",
    "\n",
    "iq_choices = [iq.name for iq in ImageQuality]\n",
    "iq_selection = mr.Select(label='Image Quality',\n",
    "                         choices=iq_choices,\n",
    "                         value=ImageQuality.IQ70.name)\n",
    "\n",
    "\n",
    "@dataclass(frozen=True)\n",
    "class Params:\n",
    "    start: Time\n",
    "    end: Time\n",
    "    num_nights_to_schedule: int\n",
    "    sites: FrozenSet[Site]\n",
    "    cc: CloudCover\n",
    "    iq: ImageQuality\n",
    "       \n",
    "def extract_params() -> Params:\n",
    "    # Parse the start time for the visibility calculations.\n",
    "    start_string = f'{start_date.value} 08:00:00'\n",
    "    try:\n",
    "        # Since we are using UT, add one day to the start date as it will roll back.\n",
    "        start = Time(start_string, format='iso', scale='utc') + day\n",
    "    except Exception as e:\n",
    "        print(f'Could not parse the start date \"{start_date.value}\".')\n",
    "        raise mr.StopExecution\n",
    "        \n",
    "    # The end time for the visibility calculations.\n",
    "    # In the case that the end time == start time, we get one night.\n",
    "    num_nights_visibility = viscalc_nights.value\n",
    "    if num_nights_visibility < 1 or int(num_nights_visibility) != num_nights_visibility:\n",
    "        print(f'The number of visibility nights must be a positive integer: \"{num_nights_visibility}\".')\n",
    "        raise mr.StopExecution\n",
    "    num_nights_visibility = int(num_nights_visibility)\n",
    "    end = start + (num_nights_visibility - 1) * day\n",
    "    \n",
    "    num_nights_to_schedule = schedule_nights.value\n",
    "    if num_nights_to_schedule < 1 or int(num_nights_to_schedule) != num_nights_to_schedule:\n",
    "        print(f'The number of nights to schedule must be a positive integer: \"{num_nights_to_schedule}\".')\n",
    "        raise mr.StopExecution\n",
    "    if num_nights_to_schedule > num_nights_visibility:\n",
    "        print(f'The number of nights to schedule must be at most the number of nights used in visibility calculations.')\n",
    "        raise mr.StopExecution\n",
    "    num_nights_to_schedule = int(num_nights_to_schedule)\n",
    "    \n",
    "    sites = frozenset(Site[s] for s in site_selection.value)\n",
    "    if not sites:\n",
    "        print('No sites specified.')\n",
    "        raise mr.StopExecution\n",
    "    \n",
    "    try:\n",
    "        cc = CloudCover[cc_selection.value]\n",
    "    except KeyError:\n",
    "        print(f'Illegal CloudCover: \"{cc_selection.value}\"')\n",
    "        raise mr.StopExecution\n",
    "    \n",
    "    try:\n",
    "        iq = ImageQuality[iq_selection.value]\n",
    "    except KeyError:\n",
    "        print(f'Illegal ImageQuality: \"{iq_selection.value}\"')\n",
    "        raise mr.StopExecution\n",
    "    \n",
    "    return Params(start=start,\n",
    "                  end=end,\n",
    "                  num_nights_to_schedule=num_nights_to_schedule,\n",
    "                  sites=sites,\n",
    "                  cc=cc,\n",
    "                  iq=iq)\n"
   ]
  },
  {
   "cell_type": "markdown",
   "metadata": {},
   "source": [
    "## SCHEDULER \n",
    "\n",
    "When the Scheduler is running, the UI will be frozen until the results are displayed.\n",
    "When the run button is enabled, the Scheduler may be invoked.\n",
    "The default values provided are the ones used during internal testing."
   ]
  },
  {
   "cell_type": "code",
   "execution_count": null,
   "outputs": [],
   "source": [
    "# Validate the UI data.\n",
    "params = extract_params()\n",
    "\n",
    "print('Parameters parsed: Scheduler execution running...\\n')\n",
    "\n",
    "# If validation is successful, we run the Scheduler.\n",
    "ObservatoryProperties.set_properties(GeminiProperties)\n",
    "\n",
    "# Read in a list of JSON data\n",
    "programs = read_ocs_zipfile(os.path.join(ROOT_DIR, 'scheduler', 'data', '2018B_program_samples.zip'))\n",
    "\n",
    "# Create the Collector and load the programs.\n",
    "collector_blueprint = CollectorBlueprint(\n",
    "    ['SCIENCE', 'PROGCAL', 'PARTNERCAL'],\n",
    "    ['Q', 'LP', 'FT', 'DD'],\n",
    "    1.0\n",
    ")\n",
    "\n",
    "builder = None\n",
    "try:\n",
    "    builder = ValidationBuilder(Sources())\n",
    "except TypeError as ex:\n",
    "    import inspect\n",
    "    sig = inspect.signature(ValidationBuilder.__init__)\n",
    "    print(f'ValidationBuilder signature: {sig}')\n",
    "    print(f'TypeError: {ex}')\n",
    "    class_file_path = inspect.getfile(ValidationBuilder)\n",
    "    print(f'ValidationBuilder is being loaded from {class_file_path}')\n",
    "\n",
    "if builder is None:\n",
    "    print('ValidationBuilder fail.')\n",
    "    sys.exit(1)\n",
    "\n",
    "collector = builder.build_collector(\n",
    "    start=params.start,\n",
    "    end=params.end,\n",
    "    sites=params.sites,\n",
    "    semesters=frozenset([Semester(2018, SemesterHalf.B)]),\n",
    "    blueprint=collector_blueprint\n",
    ")\n",
    "\n",
    "selector = builder.build_selector(collector,\n",
    "                                  num_nights_to_schedule=params.num_nights_to_schedule,\n",
    "                                  default_cc=params.cc,\n",
    "                                  default_iq=params.iq)\n",
    "\n",
    "# Prepare the optimizer.\n",
    "optimizer_blueprint = OptimizerBlueprint(\n",
    "    \"GreedyMax\"\n",
    ")\n",
    "optimizer = builder.build_optimizer(\n",
    "    blueprint=optimizer_blueprint\n",
    ")\n",
    "\n",
    "# The total nights for which visibility calculations have been done.\n",
    "total_nights = len(collector.time_grid)\n",
    "\n",
    "# Create the overall plans by night.\n",
    "overall_plans = {}\n",
    "\n",
    "for night_idx in range(selector.num_nights_to_schedule):\n",
    "    # We score one night at a time.\n",
    "    night_indices = np.array([night_idx])\n",
    "    \n",
    "    # Retrieve the Selection and run the Optimizer to get the plans.\n",
    "    selection = selector.select(night_indices=night_indices)\n",
    "    pickle_selection(selection, out_dir.path, night_idx)\n",
    "    plans = optimizer.schedule(selection)\n",
    "    night_plans = plans[0]\n",
    "\n",
    "    # Store the plans in the overall_plans array for that night.\n",
    "    # TODO: This might be an issue. We may need to index nights (plans) in optimizer by night_idx.\n",
    "    overall_plans[night_idx] = night_plans\n",
    "\n",
    "    # Perform the time accounting on the plans.\n",
    "    collector.time_accounting(night_plans)\n",
    "\n",
    "\n",
    "overall_plans = [p for _, p in sorted(overall_plans.items())]\n",
    "plan_summary = StatCalculator.calculate_plans_stats(overall_plans, collector)\n",
    "\n",
    "night_tables = plans_table(overall_plans)\n",
    "pickle_plans(night_tables, out_dir.path, params.start, params.end)\n",
    "\n",
    "print('\\n\\n\\n')\n",
    "for n_idx, table_per_site in enumerate(night_tables):\n",
    "    night_date = (params.start + (n_idx - 1) * day).iso.split(' ')[0]\n",
    "    mr.Md(f\"## Night: {night_date} (Day: {n_idx})\")\n",
    "    for site in params.sites:\n",
    "        night_stats = overall_plans[n_idx][site].night_stats\n",
    "        mr.Md(f\"### Site: {site.value[0]} \")\n",
    "        display(table_per_site[site])\n",
    "        mr.Md(f'Time loss: {night_stats.time_loss}')\n",
    "        mr.Md(f'Plan_Score: {night_stats.plan_score}')\n",
    "        mr.Md(f'Number of ToOs: {night_stats.n_toos}')\n",
    "        mr.Md(f'Schedule Observations by band')\n",
    "        for key, value in night_stats.completion_fraction.items():\n",
    "            mr.Md(f'Band {key:<10}{value}')\n",
    "    mr.Md('---')            \n",
    "mr.Md('## Program Completion')\n",
    "df_pcompl = pd.DataFrame(plan_summary).T.rename(columns={0: \"% Completion\", 1: \"Score\"})\n",
    "display(df_pcompl)\n",
    "\n",
    "print('DONE')\n"
   ],
   "metadata": {
    "collapsed": false
   }
  },
  {
   "cell_type": "code",
   "execution_count": null,
   "outputs": [],
   "source": [
    "import inspect\n",
    "sig = inspect.signature(ValidationBuilder.__init__)\n",
    "print(sig)"
   ],
   "metadata": {
    "collapsed": false
   }
  }
 ],
 "metadata": {
  "kernelspec": {
   "display_name": "Python 3 (ipykernel)",
   "language": "python",
   "name": "python3"
  },
  "language_info": {
   "codemirror_mode": {
    "name": "ipython",
    "version": 3
   },
   "file_extension": ".py",
   "mimetype": "text/x-python",
   "name": "python",
   "nbconvert_exporter": "python",
   "pygments_lexer": "ipython3",
   "version": "3.10.6"
  }
 },
 "nbformat": 4,
 "nbformat_minor": 4
}
